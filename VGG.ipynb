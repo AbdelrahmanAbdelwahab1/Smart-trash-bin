{
 "cells": [
  {
   "cell_type": "code",
   "execution_count": 4,
   "metadata": {},
   "outputs": [],
   "source": [
    "import os\n",
    "import numpy as np\n",
    "import cv2 as cv\n",
    "import tensorflow as tf\n",
    "from tensorflow.keras.applications import VGG16\n",
    "from tensorflow.keras.models import Model\n",
    "from tensorflow.keras.layers import Dense, GlobalAveragePooling2D\n",
    "from tensorflow.keras.optimizers import Adam\n",
    "from sklearn.model_selection import train_test_split\n",
    "from tensorflow.keras.utils import to_categorical\n",
    "IMG_SIZE = 32\n",
    "DATADIR = \"archive (1)\"\n",
    "DATADIR_TEST = \"test\"\n",
    "CATEGORIES = os.listdir(DATADIR)\n"
   ]
  },
  {
   "cell_type": "code",
   "execution_count": 3,
   "metadata": {},
   "outputs": [],
   "source": [
    "\n",
    "\n",
    "# Set image size\n",
    "\n",
    "# Add paths\n",
    "DATADIR = \"archive (1)\"\n",
    "DATADIR_TEST = \"test\"\n",
    "\n",
    "# Initialize categories\n",
    "CATEGORIES = os.listdir(DATADIR)\n",
    "\n",
    "# Get test data\n",
    "def create_test_data():\n",
    "    test_images = []\n",
    "    test_labels = []\n",
    "    for category in CATEGORIES:\n",
    "        path = os.path.join(DATADIR_TEST, category)\n",
    "        class_num = CATEGORIES.index(category)\n",
    "        for img in os.listdir(path):\n",
    "            try:\n",
    "                img_array = cv.imread(os.path.join(path, img))\n",
    "                new_array = cv.resize(img_array, (IMG_SIZE, IMG_SIZE))\n",
    "                test_images.append(new_array)\n",
    "                test_labels.append(class_num)\n",
    "            except Exception as e:\n",
    "                pass\n",
    "    return np.array(test_images), np.array(test_labels)\n",
    "\n",
    "# Get training data\n",
    "def create_training_data():\n",
    "    train_images = []\n",
    "    train_labels = []\n",
    "    for category in CATEGORIES:\n",
    "        path = os.path.join(DATADIR, category)\n",
    "        class_num = CATEGORIES.index(category)\n",
    "        for img in os.listdir(path):\n",
    "            try:\n",
    "                img_array = cv.imread(os.path.join(path, img))\n",
    "                new_array = cv.resize(img_array, (IMG_SIZE, IMG_SIZE))\n",
    "                train_images.append(new_array)\n",
    "                train_labels.append(class_num)\n",
    "            except Exception as e:\n",
    "                pass\n",
    "    return np.array(train_images), np.array(train_labels)\n"
   ]
  },
  {
   "cell_type": "code",
   "execution_count": 28,
   "metadata": {},
   "outputs": [],
   "source": [
    "\n",
    "# Load the data\n",
    "train_images, train_labels = create_training_data()\n",
    "test_images, test_labels = create_test_data()\n",
    "\n",
    "# Normalize the pixel values\n",
    "train_images = train_images / 255.0\n",
    "test_images = test_images / 255.0\n",
    "\n",
    "# Convert labels to one-hot encoding\n",
    "train_labels = to_categorical(train_labels, num_classes=len(CATEGORIES))\n",
    "test_labels = to_categorical(test_labels, num_classes=len(CATEGORIES))"
   ]
  },
  {
   "cell_type": "code",
   "execution_count": 29,
   "metadata": {},
   "outputs": [],
   "source": [
    "np.save('train_images.npy', train_images)\n",
    "np.save('train_labels.npy', train_labels)\n",
    "np.save('test_images_testFolder.npy', test_images)\n",
    "np.save('test_labels_testFolder.npy', test_labels)"
   ]
  },
  {
   "cell_type": "code",
   "execution_count": 2,
   "metadata": {},
   "outputs": [],
   "source": [
    "train_images = np.load('train_images.npy')\n",
    "train_labels = np.load('train_labels.npy')\n",
    "test_images = np.load('test_images_testFolder.npy')\n",
    "test_labels = np.load('test_labels_testFolder.npy')"
   ]
  },
  {
   "cell_type": "code",
   "execution_count": 5,
   "metadata": {},
   "outputs": [
    {
     "name": "stdout",
     "output_type": "stream",
     "text": [
      "Epoch 1/20\n",
      "\u001b[1m987/987\u001b[0m \u001b[32m━━━━━━━━━━━━━━━━━━━━\u001b[0m\u001b[37m\u001b[0m \u001b[1m80s\u001b[0m 80ms/step - accuracy: 0.5706 - loss: 1.0169 - val_accuracy: 0.6650 - val_loss: 0.8230\n",
      "Epoch 2/20\n",
      "\u001b[1m987/987\u001b[0m \u001b[32m━━━━━━━━━━━━━━━━━━━━\u001b[0m\u001b[37m\u001b[0m \u001b[1m79s\u001b[0m 80ms/step - accuracy: 0.7125 - loss: 0.7385 - val_accuracy: 0.7274 - val_loss: 0.6993\n",
      "Epoch 3/20\n",
      "\u001b[1m987/987\u001b[0m \u001b[32m━━━━━━━━━━━━━━━━━━━━\u001b[0m\u001b[37m\u001b[0m \u001b[1m81s\u001b[0m 82ms/step - accuracy: 0.7555 - loss: 0.6269 - val_accuracy: 0.7527 - val_loss: 0.6572\n",
      "Epoch 4/20\n",
      "\u001b[1m987/987\u001b[0m \u001b[32m━━━━━━━━━━━━━━━━━━━━\u001b[0m\u001b[37m\u001b[0m \u001b[1m78s\u001b[0m 79ms/step - accuracy: 0.7974 - loss: 0.5326 - val_accuracy: 0.7706 - val_loss: 0.6240\n",
      "Epoch 5/20\n",
      "\u001b[1m987/987\u001b[0m \u001b[32m━━━━━━━━━━━━━━━━━━━━\u001b[0m\u001b[37m\u001b[0m \u001b[1m77s\u001b[0m 78ms/step - accuracy: 0.8267 - loss: 0.4596 - val_accuracy: 0.7785 - val_loss: 0.6081\n",
      "Epoch 6/20\n",
      "\u001b[1m987/987\u001b[0m \u001b[32m━━━━━━━━━━━━━━━━━━━━\u001b[0m\u001b[37m\u001b[0m \u001b[1m80s\u001b[0m 81ms/step - accuracy: 0.8534 - loss: 0.3959 - val_accuracy: 0.7970 - val_loss: 0.5676\n",
      "Epoch 7/20\n",
      "\u001b[1m987/987\u001b[0m \u001b[32m━━━━━━━━━━━━━━━━━━━━\u001b[0m\u001b[37m\u001b[0m \u001b[1m68s\u001b[0m 69ms/step - accuracy: 0.8793 - loss: 0.3353 - val_accuracy: 0.8049 - val_loss: 0.5694\n",
      "Epoch 8/20\n",
      "\u001b[1m987/987\u001b[0m \u001b[32m━━━━━━━━━━━━━━━━━━━━\u001b[0m\u001b[37m\u001b[0m \u001b[1m67s\u001b[0m 67ms/step - accuracy: 0.8961 - loss: 0.2895 - val_accuracy: 0.8202 - val_loss: 0.5373\n",
      "Epoch 9/20\n",
      "\u001b[1m987/987\u001b[0m \u001b[32m━━━━━━━━━━━━━━━━━━━━\u001b[0m\u001b[37m\u001b[0m \u001b[1m70s\u001b[0m 71ms/step - accuracy: 0.9165 - loss: 0.2429 - val_accuracy: 0.8211 - val_loss: 0.5423\n",
      "Epoch 10/20\n",
      "\u001b[1m987/987\u001b[0m \u001b[32m━━━━━━━━━━━━━━━━━━━━\u001b[0m\u001b[37m\u001b[0m \u001b[1m70s\u001b[0m 71ms/step - accuracy: 0.9219 - loss: 0.2254 - val_accuracy: 0.8221 - val_loss: 0.5550\n",
      "Epoch 11/20\n",
      "\u001b[1m987/987\u001b[0m \u001b[32m━━━━━━━━━━━━━━━━━━━━\u001b[0m\u001b[37m\u001b[0m \u001b[1m70s\u001b[0m 70ms/step - accuracy: 0.9354 - loss: 0.1885 - val_accuracy: 0.8290 - val_loss: 0.5736\n",
      "Epoch 12/20\n",
      "\u001b[1m987/987\u001b[0m \u001b[32m━━━━━━━━━━━━━━━━━━━━\u001b[0m\u001b[37m\u001b[0m \u001b[1m69s\u001b[0m 70ms/step - accuracy: 0.9438 - loss: 0.1665 - val_accuracy: 0.8291 - val_loss: 0.5868\n",
      "Epoch 13/20\n",
      "\u001b[1m987/987\u001b[0m \u001b[32m━━━━━━━━━━━━━━━━━━━━\u001b[0m\u001b[37m\u001b[0m \u001b[1m70s\u001b[0m 71ms/step - accuracy: 0.9513 - loss: 0.1469 - val_accuracy: 0.8361 - val_loss: 0.5920\n",
      "Epoch 14/20\n",
      "\u001b[1m987/987\u001b[0m \u001b[32m━━━━━━━━━━━━━━━━━━━━\u001b[0m\u001b[37m\u001b[0m \u001b[1m69s\u001b[0m 70ms/step - accuracy: 0.9588 - loss: 0.1247 - val_accuracy: 0.8364 - val_loss: 0.6302\n",
      "Epoch 15/20\n",
      "\u001b[1m987/987\u001b[0m \u001b[32m━━━━━━━━━━━━━━━━━━━━\u001b[0m\u001b[37m\u001b[0m \u001b[1m69s\u001b[0m 70ms/step - accuracy: 0.9609 - loss: 0.1208 - val_accuracy: 0.8387 - val_loss: 0.6466\n",
      "Epoch 16/20\n",
      "\u001b[1m987/987\u001b[0m \u001b[32m━━━━━━━━━━━━━━━━━━━━\u001b[0m\u001b[37m\u001b[0m \u001b[1m69s\u001b[0m 70ms/step - accuracy: 0.9629 - loss: 0.1067 - val_accuracy: 0.8352 - val_loss: 0.6715\n",
      "Epoch 17/20\n",
      "\u001b[1m987/987\u001b[0m \u001b[32m━━━━━━━━━━━━━━━━━━━━\u001b[0m\u001b[37m\u001b[0m \u001b[1m69s\u001b[0m 70ms/step - accuracy: 0.9673 - loss: 0.1041 - val_accuracy: 0.8399 - val_loss: 0.6559\n",
      "Epoch 18/20\n",
      "\u001b[1m987/987\u001b[0m \u001b[32m━━━━━━━━━━━━━━━━━━━━\u001b[0m\u001b[37m\u001b[0m \u001b[1m68s\u001b[0m 68ms/step - accuracy: 0.9739 - loss: 0.0819 - val_accuracy: 0.8458 - val_loss: 0.6901\n",
      "Epoch 19/20\n",
      "\u001b[1m987/987\u001b[0m \u001b[32m━━━━━━━━━━━━━━━━━━━━\u001b[0m\u001b[37m\u001b[0m \u001b[1m67s\u001b[0m 68ms/step - accuracy: 0.9772 - loss: 0.0762 - val_accuracy: 0.8410 - val_loss: 0.7153\n",
      "Epoch 20/20\n",
      "\u001b[1m987/987\u001b[0m \u001b[32m━━━━━━━━━━━━━━━━━━━━\u001b[0m\u001b[37m\u001b[0m \u001b[1m66s\u001b[0m 67ms/step - accuracy: 0.9753 - loss: 0.0759 - val_accuracy: 0.8386 - val_loss: 0.7530\n",
      "Epoch 1/14\n",
      "\u001b[1m987/987\u001b[0m \u001b[32m━━━━━━━━━━━━━━━━━━━━\u001b[0m\u001b[37m\u001b[0m \u001b[1m215s\u001b[0m 216ms/step - accuracy: 0.6973 - loss: 0.8762 - val_accuracy: 0.7676 - val_loss: 0.6448\n",
      "Epoch 2/14\n",
      "\u001b[1m987/987\u001b[0m \u001b[32m━━━━━━━━━━━━━━━━━━━━\u001b[0m\u001b[37m\u001b[0m \u001b[1m217s\u001b[0m 220ms/step - accuracy: 0.8170 - loss: 0.4804 - val_accuracy: 0.7963 - val_loss: 0.5813\n",
      "Epoch 3/14\n",
      "\u001b[1m987/987\u001b[0m \u001b[32m━━━━━━━━━━━━━━━━━━━━\u001b[0m\u001b[37m\u001b[0m \u001b[1m217s\u001b[0m 220ms/step - accuracy: 0.8674 - loss: 0.3522 - val_accuracy: 0.8282 - val_loss: 0.4938\n",
      "Epoch 4/14\n",
      "\u001b[1m987/987\u001b[0m \u001b[32m━━━━━━━━━━━━━━━━━━━━\u001b[0m\u001b[37m\u001b[0m \u001b[1m235s\u001b[0m 238ms/step - accuracy: 0.8980 - loss: 0.2787 - val_accuracy: 0.8235 - val_loss: 0.5192\n",
      "Epoch 5/14\n",
      "\u001b[1m987/987\u001b[0m \u001b[32m━━━━━━━━━━━━━━━━━━━━\u001b[0m\u001b[37m\u001b[0m \u001b[1m222s\u001b[0m 225ms/step - accuracy: 0.9171 - loss: 0.2260 - val_accuracy: 0.8424 - val_loss: 0.5150\n",
      "Epoch 6/14\n",
      "\u001b[1m987/987\u001b[0m \u001b[32m━━━━━━━━━━━━━━━━━━━━\u001b[0m\u001b[37m\u001b[0m \u001b[1m218s\u001b[0m 221ms/step - accuracy: 0.9322 - loss: 0.1908 - val_accuracy: 0.8581 - val_loss: 0.5029\n",
      "Epoch 7/14\n",
      "\u001b[1m987/987\u001b[0m \u001b[32m━━━━━━━━━━━━━━━━━━━━\u001b[0m\u001b[37m\u001b[0m \u001b[1m221s\u001b[0m 224ms/step - accuracy: 0.9463 - loss: 0.1519 - val_accuracy: 0.8582 - val_loss: 0.5334\n",
      "Epoch 8/14\n",
      "\u001b[1m987/987\u001b[0m \u001b[32m━━━━━━━━━━━━━━━━━━━━\u001b[0m\u001b[37m\u001b[0m \u001b[1m223s\u001b[0m 226ms/step - accuracy: 0.9520 - loss: 0.1373 - val_accuracy: 0.8513 - val_loss: 0.5670\n",
      "Epoch 9/14\n",
      "\u001b[1m987/987\u001b[0m \u001b[32m━━━━━━━━━━━━━━━━━━━━\u001b[0m\u001b[37m\u001b[0m \u001b[1m227s\u001b[0m 230ms/step - accuracy: 0.9566 - loss: 0.1232 - val_accuracy: 0.8567 - val_loss: 0.5605\n",
      "Epoch 10/14\n",
      "\u001b[1m987/987\u001b[0m \u001b[32m━━━━━━━━━━━━━━━━━━━━\u001b[0m\u001b[37m\u001b[0m \u001b[1m228s\u001b[0m 231ms/step - accuracy: 0.9631 - loss: 0.1081 - val_accuracy: 0.8676 - val_loss: 0.5429\n",
      "Epoch 11/14\n",
      "\u001b[1m987/987\u001b[0m \u001b[32m━━━━━━━━━━━━━━━━━━━━\u001b[0m\u001b[37m\u001b[0m \u001b[1m227s\u001b[0m 230ms/step - accuracy: 0.9644 - loss: 0.1112 - val_accuracy: 0.8667 - val_loss: 0.5956\n",
      "Epoch 12/14\n",
      "\u001b[1m987/987\u001b[0m \u001b[32m━━━━━━━━━━━━━━━━━━━━\u001b[0m\u001b[37m\u001b[0m \u001b[1m226s\u001b[0m 229ms/step - accuracy: 0.9676 - loss: 0.0955 - val_accuracy: 0.8760 - val_loss: 0.5659\n",
      "Epoch 13/14\n",
      "\u001b[1m987/987\u001b[0m \u001b[32m━━━━━━━━━━━━━━━━━━━━\u001b[0m\u001b[37m\u001b[0m \u001b[1m227s\u001b[0m 230ms/step - accuracy: 0.9701 - loss: 0.0883 - val_accuracy: 0.8676 - val_loss: 0.5886\n",
      "Epoch 14/14\n",
      "\u001b[1m987/987\u001b[0m \u001b[32m━━━━━━━━━━━━━━━━━━━━\u001b[0m\u001b[37m\u001b[0m \u001b[1m229s\u001b[0m 232ms/step - accuracy: 0.9735 - loss: 0.0788 - val_accuracy: 0.8734 - val_loss: 0.6139\n",
      "\u001b[1m1/1\u001b[0m \u001b[32m━━━━━━━━━━━━━━━━━━━━\u001b[0m\u001b[37m\u001b[0m \u001b[1m0s\u001b[0m 62ms/step - accuracy: 0.7222 - loss: 2.4861\n"
     ]
    },
    {
     "name": "stderr",
     "output_type": "stream",
     "text": [
      "WARNING:absl:You are saving your model as an HDF5 file via `model.save()` or `keras.saving.save_model(model)`. This file format is considered legacy. We recommend using instead the native Keras format, e.g. `model.save('my_model.keras')` or `keras.saving.save_model(model, 'my_model.keras')`. \n"
     ]
    },
    {
     "name": "stdout",
     "output_type": "stream",
     "text": [
      "Test accuracy: 0.7222222089767456\n"
     ]
    }
   ],
   "source": [
    "\n",
    "\n",
    "# Split the training data into training and validation sets\n",
    "X_train, X_val, y_train, y_val = train_test_split(train_images, train_labels, test_size=0.2, random_state=42)\n",
    "\n",
    "# Load Pre-Trained VGG16 Model\n",
    "base_model = VGG16(weights='imagenet', include_top=False, input_shape=(IMG_SIZE, IMG_SIZE, 3))\n",
    "\n",
    "# Feature Extraction: Add a global spatial average pooling layer\n",
    "x = base_model.output\n",
    "x = GlobalAveragePooling2D()(x)\n",
    "\n",
    "# Train a New Classifier: Add a fully-connected layer and a logistic layer with the number of classes\n",
    "x = Dense(1024, activation='relu')(x)\n",
    "predictions = Dense(len(CATEGORIES), activation='softmax')(x)\n",
    "\n",
    "# Create the final model\n",
    "model = Model(inputs=base_model.input, outputs=predictions)\n",
    "\n",
    "# Optionally, freeze the pre-trained layers\n",
    "for layer in base_model.layers:\n",
    "    layer.trainable = False\n",
    "\n",
    "# Compile the model\n",
    "model.compile(optimizer=Adam(learning_rate=0.001), loss='categorical_crossentropy', metrics=['accuracy'])\n",
    "\n",
    "# Train the new classifier\n",
    "model.fit(\n",
    "    X_train, y_train,\n",
    "    validation_data=(X_val, y_val),\n",
    "    epochs=20,\n",
    "    batch_size=32\n",
    ")\n",
    "\n",
    "# Fine-Tuning (Optional): Unfreeze some layers of the base model and re-train\n",
    "for layer in base_model.layers[-5:]:  # Unfreeze the last 4 layers\n",
    "    layer.trainable = True\n",
    "\n",
    "model.compile(optimizer=Adam(learning_rate=0.0001), loss='categorical_crossentropy', metrics=['accuracy'])\n",
    "\n",
    "model.fit(\n",
    "    X_train, y_train,\n",
    "    validation_data=(X_val, y_val),\n",
    "    epochs=14,\n",
    "    batch_size=32\n",
    ")\n",
    "\n",
    "# Evaluate on the test set\n",
    "test_loss, test_acc = model.evaluate(test_images, test_labels)\n",
    "print(f\"Test accuracy: {test_acc}\")\n",
    "\n",
    "# Save the trained model\n",
    "model.save('custom_vgg16_model.h5')\n"
   ]
  },
  {
   "cell_type": "code",
   "execution_count": 31,
   "metadata": {},
   "outputs": [
    {
     "name": "stdout",
     "output_type": "stream",
     "text": [
      "\u001b[1m1/1\u001b[0m \u001b[32m━━━━━━━━━━━━━━━━━━━━\u001b[0m\u001b[37m\u001b[0m \u001b[1m0s\u001b[0m 63ms/step - accuracy: 0.8333 - loss: 1.8535\n",
      "Test accuracy: 0.8333333134651184\n"
     ]
    }
   ],
   "source": [
    "# Evaluate on the test set\n",
    "test_loss, test_acc = model.evaluate(test_images, test_labels)\n",
    "print(f\"Test accuracy: {test_acc}\")"
   ]
  },
  {
   "cell_type": "code",
   "execution_count": 23,
   "metadata": {},
   "outputs": [
    {
     "data": {
      "text/plain": [
       "18"
      ]
     },
     "execution_count": 23,
     "metadata": {},
     "output_type": "execute_result"
    }
   ],
   "source": [
    "len(test_images)"
   ]
  },
  {
   "cell_type": "code",
   "execution_count": 32,
   "metadata": {},
   "outputs": [],
   "source": [
    "DATADIR_TEST = \"new test\"\n",
    "\n",
    "\n",
    "\n",
    "# Get test data\n",
    "def create_test_data():\n",
    "    test_images = []\n",
    "    test_labels = []\n",
    "    for category in CATEGORIES:\n",
    "        path = os.path.join(DATADIR_TEST, category)\n",
    "        class_num = CATEGORIES.index(category)\n",
    "        for img in os.listdir(path):\n",
    "            try:\n",
    "                img_array = cv.imread(os.path.join(path, img))\n",
    "                new_array = cv.resize(img_array, (IMG_SIZE, IMG_SIZE))\n",
    "                test_images.append(new_array)\n",
    "                test_labels.append(class_num)\n",
    "            except Exception as e:\n",
    "                pass\n",
    "    return np.array(test_images), np.array(test_labels)\n",
    "\n",
    "\n",
    "new_test_images, new_test_labels = create_test_data()"
   ]
  },
  {
   "cell_type": "code",
   "execution_count": 33,
   "metadata": {},
   "outputs": [
    {
     "name": "stdout",
     "output_type": "stream",
     "text": [
      "\u001b[1m5/5\u001b[0m \u001b[32m━━━━━━━━━━━━━━━━━━━━\u001b[0m\u001b[37m\u001b[0m \u001b[1m1s\u001b[0m 94ms/step\n",
      "Accuracy: 75.47%\n"
     ]
    }
   ],
   "source": [
    "acc = model.predict(new_test_images).argmax(axis=1) == new_test_labels\n",
    "\n",
    "print(f\"Accuracy: {acc.mean() * 100:.2f}%\")"
   ]
  },
  {
   "cell_type": "code",
   "execution_count": 34,
   "metadata": {},
   "outputs": [
    {
     "name": "stdout",
     "output_type": "stream",
     "text": [
      "\u001b[1m5/5\u001b[0m \u001b[32m━━━━━━━━━━━━━━━━━━━━\u001b[0m\u001b[37m\u001b[0m \u001b[1m0s\u001b[0m 62ms/step\n"
     ]
    },
    {
     "data": {
      "text/plain": [
       "array([ True,  True,  True, False, False, False, False, False,  True,\n",
       "       False,  True, False,  True,  True,  True, False,  True, False,\n",
       "        True,  True,  True,  True,  True,  True,  True,  True,  True,\n",
       "        True, False, False, False, False,  True,  True,  True,  True,\n",
       "       False, False,  True,  True,  True,  True,  True, False, False,\n",
       "        True,  True, False, False, False, False, False,  True,  True,\n",
       "        True,  True, False,  True,  True, False,  True,  True,  True,\n",
       "        True, False,  True,  True, False,  True,  True, False,  True,\n",
       "        True,  True,  True, False,  True,  True,  True,  True,  True,\n",
       "        True,  True,  True,  True,  True,  True,  True,  True,  True,\n",
       "        True,  True,  True,  True,  True,  True,  True,  True,  True,\n",
       "       False,  True,  True,  True,  True,  True, False,  True,  True,\n",
       "        True,  True,  True,  True,  True,  True,  True,  True,  True,\n",
       "        True,  True,  True,  True,  True,  True,  True, False,  True,\n",
       "        True,  True,  True,  True,  True, False,  True,  True,  True,\n",
       "        True,  True,  True,  True, False, False,  True, False,  True,\n",
       "        True,  True,  True,  True,  True,  True, False, False,  True,\n",
       "       False, False,  True,  True,  True,  True])"
      ]
     },
     "execution_count": 34,
     "metadata": {},
     "output_type": "execute_result"
    }
   ],
   "source": [
    "model.predict(new_test_images).argmax(axis=1) == new_test_labels"
   ]
  },
  {
   "cell_type": "code",
   "execution_count": 25,
   "metadata": {},
   "outputs": [
    {
     "data": {
      "text/plain": [
       "array([0, 0, 0, 0, 0, 0, 0, 0, 0, 0, 0, 0, 0, 0, 0, 0, 0, 0, 0, 0, 0, 1,\n",
       "       1, 1, 1, 1, 1, 1, 1, 1, 1, 1, 1, 1, 1, 1, 1, 1, 1, 1, 1, 1, 2, 2,\n",
       "       2, 2, 2, 2, 2, 2, 2, 2, 2, 2, 2, 2, 2, 2, 2, 2, 2, 2, 2, 2, 2, 2,\n",
       "       2, 2, 2, 2, 2, 2, 2, 2, 2, 2, 2, 2, 2, 2, 2, 2, 2, 2, 2, 2, 2, 2,\n",
       "       2, 2, 2, 2, 2, 2, 2, 2, 2, 2, 2, 2, 2, 2, 2, 2, 2, 3, 3, 3, 3, 3,\n",
       "       3, 3, 3, 3, 3, 3, 3])"
      ]
     },
     "execution_count": 25,
     "metadata": {},
     "output_type": "execute_result"
    }
   ],
   "source": [
    "new_test_labels"
   ]
  },
  {
   "cell_type": "code",
   "execution_count": 35,
   "metadata": {},
   "outputs": [
    {
     "name": "stdout",
     "output_type": "stream",
     "text": [
      "\u001b[1m5/5\u001b[0m \u001b[32m━━━━━━━━━━━━━━━━━━━━\u001b[0m\u001b[37m\u001b[0m \u001b[1m0s\u001b[0m 70ms/step\n"
     ]
    },
    {
     "data": {
      "image/png": "[encoded data removed]",
      "text/plain": [
       "<Figure size 1000x700 with 2 Axes>"
      ]
     },
     "metadata": {},
     "output_type": "display_data"
    },
    {
     "name": "stdout",
     "output_type": "stream",
     "text": [
      "              precision    recall  f1-score   support\n",
      "\n",
      "         can       0.85      0.62      0.72        37\n",
      "       glass       0.78      0.62      0.69        34\n",
      "       paper       0.81      0.92      0.86        63\n",
      "     plastic       0.55      0.72      0.62        25\n",
      "\n",
      "    accuracy                           0.75       159\n",
      "   macro avg       0.75      0.72      0.72       159\n",
      "weighted avg       0.77      0.75      0.75       159\n",
      "\n"
     ]
    }
   ],
   "source": [
    "import matplotlib.pyplot as plt\n",
    "import seaborn as sns\n",
    "from sklearn.metrics import confusion_matrix, classification_report\n",
    "\n",
    "# Assuming `model` is your trained model and `X_test`, `y_test` are your test data and labels\n",
    "# Make predictions\n",
    "y_pred = model.predict(new_test_images).argmax(axis=1)\n",
    "\n",
    "# Compute the confusion matrix\n",
    "cm = confusion_matrix(new_test_labels, y_pred)\n",
    "\n",
    "# Visualize the confusion matrix\n",
    "plt.figure(figsize=(10, 7))\n",
    "sns.heatmap(cm, annot=True, fmt='d', cmap='Blues', xticklabels=CATEGORIES, yticklabels=CATEGORIES)\n",
    "plt.xlabel('Predicted')\n",
    "plt.ylabel('Actual')\n",
    "plt.title('Confusion Matrix of Model Predictions')\n",
    "plt.show()\n",
    "\n",
    "# Print classification report for additional insights\n",
    "print(classification_report(new_test_labels, y_pred, target_names=CATEGORIES))"
   ]
  },
  {
   "cell_type": "code",
   "execution_count": 26,
   "metadata": {},
   "outputs": [
    {
     "data": {
      "text/plain": [
       "117"
      ]
     },
     "execution_count": 26,
     "metadata": {},
     "output_type": "execute_result"
    }
   ],
   "source": [
    "len(new_test_images)"
   ]
  },
  {
   "cell_type": "code",
   "execution_count": 26,
   "metadata": {},
   "outputs": [],
   "source": [
    "DATADIR_TEST = \"real_test\"\n",
    "\n",
    "\n",
    "\n",
    "# Get test data\n",
    "def create_test_data():\n",
    "    test_images = []\n",
    "    test_labels = []\n",
    "    for category in ['can','paper', 'plastic']:\n",
    "        path = os.path.join(DATADIR_TEST, category)\n",
    "        class_num = CATEGORIES.index(category)\n",
    "        for img in os.listdir(path):\n",
    "            try:\n",
    "                img_array = cv.imread(os.path.join(path, img))\n",
    "                new_array = cv.resize(img_array, (IMG_SIZE, IMG_SIZE))\n",
    "                test_images.append(new_array)\n",
    "                test_labels.append(class_num)\n",
    "            except Exception as e:\n",
    "                pass\n",
    "    return np.array(test_images)/255.0, np.array(test_labels)\n",
    "\n",
    "\n",
    "real_test_images, real_test_labels = create_test_data()"
   ]
  },
  {
   "cell_type": "code",
   "execution_count": 20,
   "metadata": {},
   "outputs": [
    {
     "name": "stdout",
     "output_type": "stream",
     "text": [
      "\u001b[1m1/1\u001b[0m \u001b[32m━━━━━━━━━━━━━━━━━━━━\u001b[0m\u001b[37m\u001b[0m \u001b[1m0s\u001b[0m 178ms/step\n"
     ]
    },
    {
     "data": {
      "text/plain": [
       "array([ True, False, False, False,  True,  True,  True, False, False,\n",
       "       False])"
      ]
     },
     "execution_count": 20,
     "metadata": {},
     "output_type": "execute_result"
    }
   ],
   "source": [
    "model.predict(real_test_images).argmax(axis=1) == real_test_labels"
   ]
  },
  {
   "cell_type": "markdown",
   "metadata": {},
   "source": [
    "# load model"
   ]
  },
  {
   "cell_type": "code",
   "execution_count": 21,
   "metadata": {},
   "outputs": [
    {
     "name": "stderr",
     "output_type": "stream",
     "text": [
      "WARNING:absl:Compiled the loaded model, but the compiled metrics have yet to be built. `model.compile_metrics` will be empty until you train or evaluate the model.\n"
     ]
    },
    {
     "name": "stdout",
     "output_type": "stream",
     "text": [
      "\u001b[1m1/1\u001b[0m \u001b[32m━━━━━━━━━━━━━━━━━━━━\u001b[0m\u001b[37m\u001b[0m \u001b[1m0s\u001b[0m 186ms/step\n"
     ]
    },
    {
     "data": {
      "text/plain": [
       "array([0, 3, 2, 2, 2, 2, 2, 3, 2, 2], dtype=int64)"
      ]
     },
     "execution_count": 21,
     "metadata": {},
     "output_type": "execute_result"
    }
   ],
   "source": [
    "from tensorflow.keras.models import load_model\n",
    "real_test_images, real_test_labels = create_test_data()\n",
    "# Load the model\n",
    "model = load_model('custom_vgg16_model.h5')\n",
    "\n",
    "model.predict(real_test_images).argmax(axis=1)"
   ]
  },
  {
   "cell_type": "code",
   "execution_count": 11,
   "metadata": {},
   "outputs": [],
   "source": [
    "real_test_images = list(real_test_images)"
   ]
  },
  {
   "cell_type": "code",
   "execution_count": 27,
   "metadata": {},
   "outputs": [
    {
     "name": "stderr",
     "output_type": "stream",
     "text": [
      "WARNING:absl:Compiled the loaded model, but the compiled metrics have yet to be built. `model.compile_metrics` will be empty until you train or evaluate the model.\n"
     ]
    },
    {
     "name": "stdout",
     "output_type": "stream",
     "text": [
      "\u001b[1m1/1\u001b[0m \u001b[32m━━━━━━━━━━━━━━━━━━━━\u001b[0m\u001b[37m\u001b[0m \u001b[1m0s\u001b[0m 174ms/step\n",
      "Image 1: Predicted Class = 0, Confidence = 0.92%\n",
      "Image 2: Predicted Class = 0, Confidence = 0.98%\n",
      "Image 3: Predicted Class = 2, Confidence = 0.62%\n",
      "Image 4: Predicted Class = 0, Confidence = 0.94%\n",
      "Image 5: Predicted Class = 2, Confidence = 1.00%\n",
      "Image 6: Predicted Class = 2, Confidence = 1.00%\n",
      "Image 7: Predicted Class = 2, Confidence = 1.00%\n",
      "Image 8: Predicted Class = 2, Confidence = 0.96%\n",
      "Image 9: Predicted Class = 1, Confidence = 0.83%\n",
      "Image 10: Predicted Class = 1, Confidence = 0.62%\n"
     ]
    }
   ],
   "source": [
    "import numpy as np\n",
    "from tensorflow.keras.models import load_model\n",
    "\n",
    "# Load test data\n",
    "real_test_images, real_test_labels = create_test_data()\n",
    "# Load the pre-trained model\n",
    "model = load_model('custom_vgg16_model.h5')\n",
    "\n",
    "# Make predictions on the test images\n",
    "predictions = model.predict(real_test_images)\n",
    "confidence_percentages = np.max(predictions, axis=1)\n",
    "\n",
    "# Print the predicted class and confidence percentage for each image\n",
    "for i, confidence in enumerate(confidence_percentages):\n",
    "    predicted_class = np.argmax(predictions[i])\n",
    "    print(f\"Image {i+1}: Predicted Class = {predicted_class}, Confidence = {confidence:.2f}%\")\n"
   ]
  },
  {
   "cell_type": "code",
   "execution_count": 24,
   "metadata": {},
   "outputs": [
    {
     "name": "stdout",
     "output_type": "stream",
     "text": [
      "\u001b[1m1/1\u001b[0m \u001b[32m━━━━━━━━━━━━━━━━━━━━\u001b[0m\u001b[37m\u001b[0m \u001b[1m0s\u001b[0m 59ms/step\n"
     ]
    },
    {
     "data": {
      "text/plain": [
       "array([ True,  True, False,  True,  True,  True,  True,  True, False,\n",
       "       False])"
      ]
     },
     "execution_count": 24,
     "metadata": {},
     "output_type": "execute_result"
    }
   ],
   "source": [
    "model.predict(real_test_images).argmax(axis=1) == real_test_labels"
   ]
  },
  {
   "cell_type": "code",
   "execution_count": 2,
   "metadata": {},
   "outputs": [
    {
     "data": {
      "text/plain": [
       "<Functional name=functional_7, built=True>"
      ]
     },
     "execution_count": 2,
     "metadata": {},
     "output_type": "execute_result"
    }
   ],
   "source": [
    "model.hy"
   ]
  },
  {
   "cell_type": "code",
   "execution_count": 12,
   "metadata": {},
   "outputs": [
    {
     "data": {
      "text/plain": [
       "[array([[[[ 1.66219279e-01,  1.42701820e-01, -4.02113283e-03, ...,\n",
       "            6.18828237e-02, -1.74057148e-02, -3.00644431e-02],\n",
       "          [ 9.46945231e-03,  3.87477316e-03,  5.08365929e-02, ...,\n",
       "           -2.77981739e-02,  1.71373668e-03,  6.82722731e-03],\n",
       "          [ 6.32681847e-02,  2.12877709e-02, -1.63465310e-02, ...,\n",
       "            8.80054955e-04,  6.68104272e-03, -1.41139806e-03],\n",
       "          ...,\n",
       "          [ 3.47490981e-03,  8.47019628e-02, -4.07223180e-02, ...,\n",
       "           -1.13523193e-02, -7.48998486e-03,  3.19077494e-03],\n",
       "          [ 5.97234145e-02,  4.97663505e-02, -3.23118735e-03, ...,\n",
       "            1.43114366e-02,  3.03175431e-02, -4.23925705e-02],\n",
       "          [ 1.33459672e-01,  4.95484173e-02, -1.78808011e-02, ...,\n",
       "            2.25385167e-02,  3.02020740e-02, -2.17075031e-02]],\n",
       " \n",
       "         [[ 2.12007999e-01,  2.10127644e-02, -1.47626130e-02, ...,\n",
       "            2.29580477e-02,  1.23102348e-02, -3.08422819e-02],\n",
       "          [-2.62175221e-03,  7.42094172e-03,  6.74030930e-02, ...,\n",
       "           -3.06594316e-02,  1.80578313e-03,  4.27369215e-03],\n",
       "          [ 2.27197763e-02, -1.07841045e-02, -1.31095545e-02, ...,\n",
       "           -1.15751950e-02,  4.18359675e-02, -1.92268589e-03],\n",
       "          ...,\n",
       "          [-2.70304317e-03,  7.41161704e-02, -3.32262330e-02, ...,\n",
       "           -1.10277236e-02,  1.39831286e-02,  5.34419343e-03],\n",
       "          [-3.20506282e-02, -2.40584910e-02, -4.52397857e-03, ...,\n",
       "           -6.04042644e-03,  2.01962605e-01, -5.04491515e-02],\n",
       "          [ 1.68114193e-02, -2.33167298e-02, -1.40886130e-02, ...,\n",
       "           -7.79278344e-03,  1.28428593e-01, -2.58184522e-02]],\n",
       " \n",
       "         [[-5.91698708e-03, -2.26223674e-02,  4.88128467e-03, ...,\n",
       "            4.13784146e-04, -4.84175496e-02,  1.63675251e-03],\n",
       "          [-3.93767562e-03,  9.07397643e-03,  5.36517277e-02, ...,\n",
       "           -2.56106984e-02, -4.17886395e-03,  2.47476017e-03],\n",
       "          [-3.07008922e-02, -1.09781921e-02, -3.69096454e-03, ...,\n",
       "           -1.19221993e-02, -1.39777903e-02,  8.52933805e-03],\n",
       "          ...,\n",
       "          [ 5.83332591e-03,  2.96198055e-02, -3.56571227e-02, ...,\n",
       "           -1.01153394e-02,  5.06090466e-03, -2.86859111e-03],\n",
       "          [-7.80934095e-02, -1.95693132e-02,  2.14814320e-02, ...,\n",
       "            7.42452731e-03,  5.41617945e-02, -2.35790759e-02],\n",
       "          [-7.82641992e-02, -2.47034207e-02,  1.36250593e-02, ...,\n",
       "           -7.53259566e-03, -2.59861015e-02,  4.52143652e-03]]],\n",
       " \n",
       " \n",
       "        [[[ 1.99202523e-01,  5.03257252e-02, -1.93236247e-02, ...,\n",
       "            1.62308700e-02, -1.15369558e-02,  1.55777042e-03],\n",
       "          [-1.38656620e-03,  4.52297740e-03,  6.65066689e-02, ...,\n",
       "           -3.00004911e-02,  1.71904117e-04, -1.11898372e-03],\n",
       "          [ 2.14257818e-02,  1.79782789e-03, -1.76792312e-02, ...,\n",
       "           -6.09106943e-03, -3.21686491e-02, -1.07312342e-03],\n",
       "          ...,\n",
       "          [-1.47800148e-02,  7.77616128e-02, -2.67065037e-02, ...,\n",
       "           -8.10234528e-03, -1.15585206e-02, -5.30505227e-03],\n",
       "          [-1.39283072e-02,  1.69547591e-02, -1.20282415e-02, ...,\n",
       "            1.25513040e-02, -8.44068080e-02, -4.48253192e-02],\n",
       "          [ 2.55671684e-02,  7.02229328e-03, -2.82986648e-02, ...,\n",
       "            1.17048556e-02, -7.34802186e-02, -2.06979234e-02]],\n",
       " \n",
       "         [[-2.59410664e-02, -4.97468375e-02, -2.42083799e-02, ...,\n",
       "           -2.39597876e-02,  2.09030695e-02,  1.69499479e-02],\n",
       "          [-4.78290301e-03,  1.04173329e-02,  8.31823424e-02, ...,\n",
       "           -3.18786576e-02,  3.48328054e-03, -3.56311840e-03],\n",
       "          [-3.81173752e-02, -1.85197107e-02, -1.43900532e-02, ...,\n",
       "           -1.41960718e-02,  3.14613059e-02,  4.11967095e-03],\n",
       "          ...,\n",
       "          [-1.79932006e-02,  7.17700496e-02, -1.99375115e-02, ...,\n",
       "           -6.12784317e-03,  1.66521706e-02, -7.48346280e-03],\n",
       "          [-8.91536921e-02, -4.69055325e-02, -1.37380632e-02, ...,\n",
       "           -8.06835108e-03,  6.04359731e-02, -4.47445139e-02],\n",
       "          [-1.00021079e-01, -3.55393849e-02, -2.46136412e-02, ...,\n",
       "           -7.50665693e-03,  9.11064222e-02, -1.06519591e-02]],\n",
       " \n",
       "         [[-9.84916389e-02, -5.77464141e-02, -4.49889433e-03, ...,\n",
       "           -2.21592579e-02, -9.32130869e-03,  5.57853021e-02],\n",
       "          [ 4.70533501e-03,  1.18583711e-02,  6.85855076e-02, ...,\n",
       "           -2.62385849e-02, -2.82203127e-03, -4.67023626e-03],\n",
       "          [-2.28894763e-02, -7.75412470e-03, -9.86886956e-03, ...,\n",
       "           -1.22523597e-02,  4.30414118e-02,  1.28994938e-02],\n",
       "          ...,\n",
       "          [ 2.93275771e-05,  1.62800644e-02, -2.53228396e-02, ...,\n",
       "           -8.11440870e-03,  9.42004658e-03, -1.69352964e-02],\n",
       "          [-4.56118677e-03, -3.88334878e-02, -8.15101550e-04, ...,\n",
       "           -7.37672672e-05,  2.05828294e-01, -1.84731018e-02],\n",
       "          [-3.79626676e-02, -1.82646457e-02, -7.20302528e-03, ...,\n",
       "           -1.28044421e-03,  1.40015617e-01,  1.13147246e-02]]],\n",
       " \n",
       " \n",
       "        [[[-1.11585744e-02, -4.15539136e-03, -6.83113467e-03, ...,\n",
       "            3.17358202e-03, -6.52846992e-02,  8.59456360e-02],\n",
       "          [-6.14583818e-03,  4.85422462e-03,  5.14627509e-02, ...,\n",
       "           -2.23777443e-02, -1.03412592e-03, -8.19014851e-03],\n",
       "          [-1.00106997e-02, -1.59974187e-03, -1.14092128e-02, ...,\n",
       "           -3.87838250e-03, -3.99293639e-02,  1.13589503e-02],\n",
       "          ...,\n",
       "          [-1.68860350e-02,  5.18255346e-02, -2.66014934e-02, ...,\n",
       "           -1.99763244e-03,  4.35560057e-03, -4.49330434e-02],\n",
       "          [-1.34146223e-02,  6.32185815e-03, -7.33473897e-03, ...,\n",
       "            4.59014578e-03, -2.98611149e-02,  3.69221941e-02],\n",
       "          [-2.88858525e-02, -4.22423892e-03, -1.42897591e-02, ...,\n",
       "            1.11823296e-02, -7.52132908e-02,  1.67242344e-02]],\n",
       " \n",
       "         [[-1.02114283e-01, -5.26558608e-02, -1.00238100e-02, ...,\n",
       "           -1.37801170e-02, -4.94753271e-02,  1.25953421e-01],\n",
       "          [ 2.65349774e-03,  1.04075735e-02,  6.73149154e-02, ...,\n",
       "           -2.37589777e-02,  6.13968645e-04, -9.96601582e-03],\n",
       "          [-1.50703192e-02, -1.28871305e-02, -8.77845287e-03, ...,\n",
       "           -1.01640215e-02, -4.76290248e-02,  1.36717530e-02],\n",
       "          ...,\n",
       "          [-5.43789240e-03,  3.35888155e-02, -2.11151708e-02, ...,\n",
       "           -3.83130647e-03, -1.02301398e-02, -5.32924160e-02],\n",
       "          [-2.21891310e-02, -4.92077954e-02, -1.38867581e-02, ...,\n",
       "           -1.28568839e-02, -9.37007815e-02,  5.59309907e-02],\n",
       "          [-2.61166841e-02, -3.50148268e-02, -1.47816772e-02, ...,\n",
       "           -2.86548026e-03, -1.01101905e-01,  1.94419883e-02]],\n",
       " \n",
       "         [[ 2.73401570e-02, -3.54428887e-02,  1.18577422e-03, ...,\n",
       "            5.02943760e-04,  4.51298095e-02,  1.23520821e-01],\n",
       "          [ 9.48381796e-03,  1.12858564e-02,  5.32916747e-02, ...,\n",
       "           -1.81195941e-02, -1.31687860e-03, -1.01092532e-02],\n",
       "          [ 3.73495184e-02, -7.93821830e-03, -5.94039401e-03, ...,\n",
       "           -7.96878152e-03,  1.53274648e-02,  9.63651482e-03],\n",
       "          ...,\n",
       "          [-2.60413792e-02, -2.53635142e-02, -2.81382054e-02, ...,\n",
       "           -6.63971901e-03, -7.26283342e-03, -5.57855107e-02],\n",
       "          [ 2.67488584e-02, -4.73727398e-02, -3.06198676e-03, ...,\n",
       "           -4.82000969e-03,  4.08617556e-02,  6.99444860e-02],\n",
       "          [ 7.98859298e-02, -2.87372041e-02,  6.38093508e-04, ...,\n",
       "            9.73386108e-04,  4.21557203e-02,  1.60824433e-02]]]],\n",
       "       dtype=float32),\n",
       " array([-0.30912212,  0.36397225,  0.13737613,  0.07717966,  0.9052184 ,\n",
       "         0.08885256,  0.10789118, -0.23106739, -0.6318097 ,  0.18161367,\n",
       "        -0.33391494,  0.1961724 ,  0.43838617,  0.1938708 ,  0.10894354,\n",
       "         0.10315038, -1.0271513 ,  0.05252688,  0.13118458,  0.22851577,\n",
       "        -0.71377224,  0.2154155 , -0.6981962 ,  0.04061132,  0.13955347,\n",
       "         0.28767544,  0.35358745,  0.3937295 ,  0.43452853, -0.48259264,\n",
       "         0.02631121,  0.09220165,  0.05196398,  0.550705  ,  0.32368094,\n",
       "         0.07263482, -0.17745508,  0.3761972 ,  0.39344102,  0.17673127,\n",
       "        -0.15784228,  0.26051855,  0.08342359,  0.08603705, -0.09131282,\n",
       "         0.22932515,  0.2998315 ,  0.13511261, -0.3835829 ,  0.10912544,\n",
       "        -0.53432876,  0.4741787 , -0.0740848 ,  0.30046257,  0.12590808,\n",
       "         0.16480374,  0.2403943 ,  0.23401979, -0.19334187,  0.01663565,\n",
       "         0.27144948,  0.03385786,  0.06076292, -0.5825159 ], dtype=float32)]"
      ]
     },
     "execution_count": 12,
     "metadata": {},
     "output_type": "execute_result"
    }
   ],
   "source": [
    "weights = model.layers[2].get_weights()\n",
    "weights"
   ]
  },
  {
   "cell_type": "code",
   "execution_count": 8,
   "metadata": {},
   "outputs": [
    {
     "data": {
      "text/html": [
       "<pre style=\"white-space:pre;overflow-x:auto;line-height:normal;font-family:Menlo,'DejaVu Sans Mono',consolas,'Courier New',monospace\"><span style=\"font-weight: bold\">Model: \"functional_7\"</span>\n",
       "</pre>\n"
      ],
      "text/plain": [
       "\u001b[1mModel: \"functional_7\"\u001b[0m\n"
      ]
     },
     "metadata": {},
     "output_type": "display_data"
    },
    {
     "data": {
      "text/html": [
       "<pre style=\"white-space:pre;overflow-x:auto;line-height:normal;font-family:Menlo,'DejaVu Sans Mono',consolas,'Courier New',monospace\">┏━━━━━━━━━━━━━━━━━━━━━━━━━━━━━━━━━┳━━━━━━━━━━━━━━━━━━━━━━━━┳━━━━━━━━━━━━━━━┓\n",
       "┃<span style=\"font-weight: bold\"> Layer (type)                    </span>┃<span style=\"font-weight: bold\"> Output Shape           </span>┃<span style=\"font-weight: bold\">       Param # </span>┃\n",
       "┡━━━━━━━━━━━━━━━━━━━━━━━━━━━━━━━━━╇━━━━━━━━━━━━━━━━━━━━━━━━╇━━━━━━━━━━━━━━━┩\n",
       "│ input_layer_3 (<span style=\"color: #0087ff; text-decoration-color: #0087ff\">InputLayer</span>)      │ (<span style=\"color: #00d7ff; text-decoration-color: #00d7ff\">None</span>, <span style=\"color: #00af00; text-decoration-color: #00af00\">32</span>, <span style=\"color: #00af00; text-decoration-color: #00af00\">32</span>, <span style=\"color: #00af00; text-decoration-color: #00af00\">3</span>)      │             <span style=\"color: #00af00; text-decoration-color: #00af00\">0</span> │\n",
       "├─────────────────────────────────┼────────────────────────┼───────────────┤\n",
       "│ block1_conv1 (<span style=\"color: #0087ff; text-decoration-color: #0087ff\">Conv2D</span>)           │ (<span style=\"color: #00d7ff; text-decoration-color: #00d7ff\">None</span>, <span style=\"color: #00af00; text-decoration-color: #00af00\">32</span>, <span style=\"color: #00af00; text-decoration-color: #00af00\">32</span>, <span style=\"color: #00af00; text-decoration-color: #00af00\">64</span>)     │         <span style=\"color: #00af00; text-decoration-color: #00af00\">1,792</span> │\n",
       "├─────────────────────────────────┼────────────────────────┼───────────────┤\n",
       "│ block1_conv2 (<span style=\"color: #0087ff; text-decoration-color: #0087ff\">Conv2D</span>)           │ (<span style=\"color: #00d7ff; text-decoration-color: #00d7ff\">None</span>, <span style=\"color: #00af00; text-decoration-color: #00af00\">32</span>, <span style=\"color: #00af00; text-decoration-color: #00af00\">32</span>, <span style=\"color: #00af00; text-decoration-color: #00af00\">64</span>)     │        <span style=\"color: #00af00; text-decoration-color: #00af00\">36,928</span> │\n",
       "├─────────────────────────────────┼────────────────────────┼───────────────┤\n",
       "│ block1_pool (<span style=\"color: #0087ff; text-decoration-color: #0087ff\">MaxPooling2D</span>)      │ (<span style=\"color: #00d7ff; text-decoration-color: #00d7ff\">None</span>, <span style=\"color: #00af00; text-decoration-color: #00af00\">16</span>, <span style=\"color: #00af00; text-decoration-color: #00af00\">16</span>, <span style=\"color: #00af00; text-decoration-color: #00af00\">64</span>)     │             <span style=\"color: #00af00; text-decoration-color: #00af00\">0</span> │\n",
       "├─────────────────────────────────┼────────────────────────┼───────────────┤\n",
       "│ block2_conv1 (<span style=\"color: #0087ff; text-decoration-color: #0087ff\">Conv2D</span>)           │ (<span style=\"color: #00d7ff; text-decoration-color: #00d7ff\">None</span>, <span style=\"color: #00af00; text-decoration-color: #00af00\">16</span>, <span style=\"color: #00af00; text-decoration-color: #00af00\">16</span>, <span style=\"color: #00af00; text-decoration-color: #00af00\">128</span>)    │        <span style=\"color: #00af00; text-decoration-color: #00af00\">73,856</span> │\n",
       "├─────────────────────────────────┼────────────────────────┼───────────────┤\n",
       "│ block2_conv2 (<span style=\"color: #0087ff; text-decoration-color: #0087ff\">Conv2D</span>)           │ (<span style=\"color: #00d7ff; text-decoration-color: #00d7ff\">None</span>, <span style=\"color: #00af00; text-decoration-color: #00af00\">16</span>, <span style=\"color: #00af00; text-decoration-color: #00af00\">16</span>, <span style=\"color: #00af00; text-decoration-color: #00af00\">128</span>)    │       <span style=\"color: #00af00; text-decoration-color: #00af00\">147,584</span> │\n",
       "├─────────────────────────────────┼────────────────────────┼───────────────┤\n",
       "│ block2_pool (<span style=\"color: #0087ff; text-decoration-color: #0087ff\">MaxPooling2D</span>)      │ (<span style=\"color: #00d7ff; text-decoration-color: #00d7ff\">None</span>, <span style=\"color: #00af00; text-decoration-color: #00af00\">8</span>, <span style=\"color: #00af00; text-decoration-color: #00af00\">8</span>, <span style=\"color: #00af00; text-decoration-color: #00af00\">128</span>)      │             <span style=\"color: #00af00; text-decoration-color: #00af00\">0</span> │\n",
       "├─────────────────────────────────┼────────────────────────┼───────────────┤\n",
       "│ block3_conv1 (<span style=\"color: #0087ff; text-decoration-color: #0087ff\">Conv2D</span>)           │ (<span style=\"color: #00d7ff; text-decoration-color: #00d7ff\">None</span>, <span style=\"color: #00af00; text-decoration-color: #00af00\">8</span>, <span style=\"color: #00af00; text-decoration-color: #00af00\">8</span>, <span style=\"color: #00af00; text-decoration-color: #00af00\">256</span>)      │       <span style=\"color: #00af00; text-decoration-color: #00af00\">295,168</span> │\n",
       "├─────────────────────────────────┼────────────────────────┼───────────────┤\n",
       "│ block3_conv2 (<span style=\"color: #0087ff; text-decoration-color: #0087ff\">Conv2D</span>)           │ (<span style=\"color: #00d7ff; text-decoration-color: #00d7ff\">None</span>, <span style=\"color: #00af00; text-decoration-color: #00af00\">8</span>, <span style=\"color: #00af00; text-decoration-color: #00af00\">8</span>, <span style=\"color: #00af00; text-decoration-color: #00af00\">256</span>)      │       <span style=\"color: #00af00; text-decoration-color: #00af00\">590,080</span> │\n",
       "├─────────────────────────────────┼────────────────────────┼───────────────┤\n",
       "│ block3_conv3 (<span style=\"color: #0087ff; text-decoration-color: #0087ff\">Conv2D</span>)           │ (<span style=\"color: #00d7ff; text-decoration-color: #00d7ff\">None</span>, <span style=\"color: #00af00; text-decoration-color: #00af00\">8</span>, <span style=\"color: #00af00; text-decoration-color: #00af00\">8</span>, <span style=\"color: #00af00; text-decoration-color: #00af00\">256</span>)      │       <span style=\"color: #00af00; text-decoration-color: #00af00\">590,080</span> │\n",
       "├─────────────────────────────────┼────────────────────────┼───────────────┤\n",
       "│ block3_pool (<span style=\"color: #0087ff; text-decoration-color: #0087ff\">MaxPooling2D</span>)      │ (<span style=\"color: #00d7ff; text-decoration-color: #00d7ff\">None</span>, <span style=\"color: #00af00; text-decoration-color: #00af00\">4</span>, <span style=\"color: #00af00; text-decoration-color: #00af00\">4</span>, <span style=\"color: #00af00; text-decoration-color: #00af00\">256</span>)      │             <span style=\"color: #00af00; text-decoration-color: #00af00\">0</span> │\n",
       "├─────────────────────────────────┼────────────────────────┼───────────────┤\n",
       "│ block4_conv1 (<span style=\"color: #0087ff; text-decoration-color: #0087ff\">Conv2D</span>)           │ (<span style=\"color: #00d7ff; text-decoration-color: #00d7ff\">None</span>, <span style=\"color: #00af00; text-decoration-color: #00af00\">4</span>, <span style=\"color: #00af00; text-decoration-color: #00af00\">4</span>, <span style=\"color: #00af00; text-decoration-color: #00af00\">512</span>)      │     <span style=\"color: #00af00; text-decoration-color: #00af00\">1,180,160</span> │\n",
       "├─────────────────────────────────┼────────────────────────┼───────────────┤\n",
       "│ block4_conv2 (<span style=\"color: #0087ff; text-decoration-color: #0087ff\">Conv2D</span>)           │ (<span style=\"color: #00d7ff; text-decoration-color: #00d7ff\">None</span>, <span style=\"color: #00af00; text-decoration-color: #00af00\">4</span>, <span style=\"color: #00af00; text-decoration-color: #00af00\">4</span>, <span style=\"color: #00af00; text-decoration-color: #00af00\">512</span>)      │     <span style=\"color: #00af00; text-decoration-color: #00af00\">2,359,808</span> │\n",
       "├─────────────────────────────────┼────────────────────────┼───────────────┤\n",
       "│ block4_conv3 (<span style=\"color: #0087ff; text-decoration-color: #0087ff\">Conv2D</span>)           │ (<span style=\"color: #00d7ff; text-decoration-color: #00d7ff\">None</span>, <span style=\"color: #00af00; text-decoration-color: #00af00\">4</span>, <span style=\"color: #00af00; text-decoration-color: #00af00\">4</span>, <span style=\"color: #00af00; text-decoration-color: #00af00\">512</span>)      │     <span style=\"color: #00af00; text-decoration-color: #00af00\">2,359,808</span> │\n",
       "├─────────────────────────────────┼────────────────────────┼───────────────┤\n",
       "│ block4_pool (<span style=\"color: #0087ff; text-decoration-color: #0087ff\">MaxPooling2D</span>)      │ (<span style=\"color: #00d7ff; text-decoration-color: #00d7ff\">None</span>, <span style=\"color: #00af00; text-decoration-color: #00af00\">2</span>, <span style=\"color: #00af00; text-decoration-color: #00af00\">2</span>, <span style=\"color: #00af00; text-decoration-color: #00af00\">512</span>)      │             <span style=\"color: #00af00; text-decoration-color: #00af00\">0</span> │\n",
       "├─────────────────────────────────┼────────────────────────┼───────────────┤\n",
       "│ block5_conv1 (<span style=\"color: #0087ff; text-decoration-color: #0087ff\">Conv2D</span>)           │ (<span style=\"color: #00d7ff; text-decoration-color: #00d7ff\">None</span>, <span style=\"color: #00af00; text-decoration-color: #00af00\">2</span>, <span style=\"color: #00af00; text-decoration-color: #00af00\">2</span>, <span style=\"color: #00af00; text-decoration-color: #00af00\">512</span>)      │     <span style=\"color: #00af00; text-decoration-color: #00af00\">2,359,808</span> │\n",
       "├─────────────────────────────────┼────────────────────────┼───────────────┤\n",
       "│ block5_conv2 (<span style=\"color: #0087ff; text-decoration-color: #0087ff\">Conv2D</span>)           │ (<span style=\"color: #00d7ff; text-decoration-color: #00d7ff\">None</span>, <span style=\"color: #00af00; text-decoration-color: #00af00\">2</span>, <span style=\"color: #00af00; text-decoration-color: #00af00\">2</span>, <span style=\"color: #00af00; text-decoration-color: #00af00\">512</span>)      │     <span style=\"color: #00af00; text-decoration-color: #00af00\">2,359,808</span> │\n",
       "├─────────────────────────────────┼────────────────────────┼───────────────┤\n",
       "│ block5_conv3 (<span style=\"color: #0087ff; text-decoration-color: #0087ff\">Conv2D</span>)           │ (<span style=\"color: #00d7ff; text-decoration-color: #00d7ff\">None</span>, <span style=\"color: #00af00; text-decoration-color: #00af00\">2</span>, <span style=\"color: #00af00; text-decoration-color: #00af00\">2</span>, <span style=\"color: #00af00; text-decoration-color: #00af00\">512</span>)      │     <span style=\"color: #00af00; text-decoration-color: #00af00\">2,359,808</span> │\n",
       "├─────────────────────────────────┼────────────────────────┼───────────────┤\n",
       "│ block5_pool (<span style=\"color: #0087ff; text-decoration-color: #0087ff\">MaxPooling2D</span>)      │ (<span style=\"color: #00d7ff; text-decoration-color: #00d7ff\">None</span>, <span style=\"color: #00af00; text-decoration-color: #00af00\">1</span>, <span style=\"color: #00af00; text-decoration-color: #00af00\">1</span>, <span style=\"color: #00af00; text-decoration-color: #00af00\">512</span>)      │             <span style=\"color: #00af00; text-decoration-color: #00af00\">0</span> │\n",
       "├─────────────────────────────────┼────────────────────────┼───────────────┤\n",
       "│ global_average_pooling2d_3      │ (<span style=\"color: #00d7ff; text-decoration-color: #00d7ff\">None</span>, <span style=\"color: #00af00; text-decoration-color: #00af00\">512</span>)            │             <span style=\"color: #00af00; text-decoration-color: #00af00\">0</span> │\n",
       "│ (<span style=\"color: #0087ff; text-decoration-color: #0087ff\">GlobalAveragePooling2D</span>)        │                        │               │\n",
       "├─────────────────────────────────┼────────────────────────┼───────────────┤\n",
       "│ dense_6 (<span style=\"color: #0087ff; text-decoration-color: #0087ff\">Dense</span>)                 │ (<span style=\"color: #00d7ff; text-decoration-color: #00d7ff\">None</span>, <span style=\"color: #00af00; text-decoration-color: #00af00\">1024</span>)           │       <span style=\"color: #00af00; text-decoration-color: #00af00\">525,312</span> │\n",
       "├─────────────────────────────────┼────────────────────────┼───────────────┤\n",
       "│ dense_7 (<span style=\"color: #0087ff; text-decoration-color: #0087ff\">Dense</span>)                 │ (<span style=\"color: #00d7ff; text-decoration-color: #00d7ff\">None</span>, <span style=\"color: #00af00; text-decoration-color: #00af00\">4</span>)              │         <span style=\"color: #00af00; text-decoration-color: #00af00\">4,100</span> │\n",
       "└─────────────────────────────────┴────────────────────────┴───────────────┘\n",
       "</pre>\n"
      ],
      "text/plain": [
       "┏━━━━━━━━━━━━━━━━━━━━━━━━━━━━━━━━━┳━━━━━━━━━━━━━━━━━━━━━━━━┳━━━━━━━━━━━━━━━┓\n",
       "┃\u001b[1m \u001b[0m\u001b[1mLayer (type)                   \u001b[0m\u001b[1m \u001b[0m┃\u001b[1m \u001b[0m\u001b[1mOutput Shape          \u001b[0m\u001b[1m \u001b[0m┃\u001b[1m \u001b[0m\u001b[1m      Param #\u001b[0m\u001b[1m \u001b[0m┃\n",
       "┡━━━━━━━━━━━━━━━━━━━━━━━━━━━━━━━━━╇━━━━━━━━━━━━━━━━━━━━━━━━╇━━━━━━━━━━━━━━━┩\n",
       "│ input_layer_3 (\u001b[38;5;33mInputLayer\u001b[0m)      │ (\u001b[38;5;45mNone\u001b[0m, \u001b[38;5;34m32\u001b[0m, \u001b[38;5;34m32\u001b[0m, \u001b[38;5;34m3\u001b[0m)      │             \u001b[38;5;34m0\u001b[0m │\n",
       "├─────────────────────────────────┼────────────────────────┼───────────────┤\n",
       "│ block1_conv1 (\u001b[38;5;33mConv2D\u001b[0m)           │ (\u001b[38;5;45mNone\u001b[0m, \u001b[38;5;34m32\u001b[0m, \u001b[38;5;34m32\u001b[0m, \u001b[38;5;34m64\u001b[0m)     │         \u001b[38;5;34m1,792\u001b[0m │\n",
       "├─────────────────────────────────┼────────────────────────┼───────────────┤\n",
       "│ block1_conv2 (\u001b[38;5;33mConv2D\u001b[0m)           │ (\u001b[38;5;45mNone\u001b[0m, \u001b[38;5;34m32\u001b[0m, \u001b[38;5;34m32\u001b[0m, \u001b[38;5;34m64\u001b[0m)     │        \u001b[38;5;34m36,928\u001b[0m │\n",
       "├─────────────────────────────────┼────────────────────────┼───────────────┤\n",
       "│ block1_pool (\u001b[38;5;33mMaxPooling2D\u001b[0m)      │ (\u001b[38;5;45mNone\u001b[0m, \u001b[38;5;34m16\u001b[0m, \u001b[38;5;34m16\u001b[0m, \u001b[38;5;34m64\u001b[0m)     │             \u001b[38;5;34m0\u001b[0m │\n",
       "├─────────────────────────────────┼────────────────────────┼───────────────┤\n",
       "│ block2_conv1 (\u001b[38;5;33mConv2D\u001b[0m)           │ (\u001b[38;5;45mNone\u001b[0m, \u001b[38;5;34m16\u001b[0m, \u001b[38;5;34m16\u001b[0m, \u001b[38;5;34m128\u001b[0m)    │        \u001b[38;5;34m73,856\u001b[0m │\n",
       "├─────────────────────────────────┼────────────────────────┼───────────────┤\n",
       "│ block2_conv2 (\u001b[38;5;33mConv2D\u001b[0m)           │ (\u001b[38;5;45mNone\u001b[0m, \u001b[38;5;34m16\u001b[0m, \u001b[38;5;34m16\u001b[0m, \u001b[38;5;34m128\u001b[0m)    │       \u001b[38;5;34m147,584\u001b[0m │\n",
       "├─────────────────────────────────┼────────────────────────┼───────────────┤\n",
       "│ block2_pool (\u001b[38;5;33mMaxPooling2D\u001b[0m)      │ (\u001b[38;5;45mNone\u001b[0m, \u001b[38;5;34m8\u001b[0m, \u001b[38;5;34m8\u001b[0m, \u001b[38;5;34m128\u001b[0m)      │             \u001b[38;5;34m0\u001b[0m │\n",
       "├─────────────────────────────────┼────────────────────────┼───────────────┤\n",
       "│ block3_conv1 (\u001b[38;5;33mConv2D\u001b[0m)           │ (\u001b[38;5;45mNone\u001b[0m, \u001b[38;5;34m8\u001b[0m, \u001b[38;5;34m8\u001b[0m, \u001b[38;5;34m256\u001b[0m)      │       \u001b[38;5;34m295,168\u001b[0m │\n",
       "├─────────────────────────────────┼────────────────────────┼───────────────┤\n",
       "│ block3_conv2 (\u001b[38;5;33mConv2D\u001b[0m)           │ (\u001b[38;5;45mNone\u001b[0m, \u001b[38;5;34m8\u001b[0m, \u001b[38;5;34m8\u001b[0m, \u001b[38;5;34m256\u001b[0m)      │       \u001b[38;5;34m590,080\u001b[0m │\n",
       "├─────────────────────────────────┼────────────────────────┼───────────────┤\n",
       "│ block3_conv3 (\u001b[38;5;33mConv2D\u001b[0m)           │ (\u001b[38;5;45mNone\u001b[0m, \u001b[38;5;34m8\u001b[0m, \u001b[38;5;34m8\u001b[0m, \u001b[38;5;34m256\u001b[0m)      │       \u001b[38;5;34m590,080\u001b[0m │\n",
       "├─────────────────────────────────┼────────────────────────┼───────────────┤\n",
       "│ block3_pool (\u001b[38;5;33mMaxPooling2D\u001b[0m)      │ (\u001b[38;5;45mNone\u001b[0m, \u001b[38;5;34m4\u001b[0m, \u001b[38;5;34m4\u001b[0m, \u001b[38;5;34m256\u001b[0m)      │             \u001b[38;5;34m0\u001b[0m │\n",
       "├─────────────────────────────────┼────────────────────────┼───────────────┤\n",
       "│ block4_conv1 (\u001b[38;5;33mConv2D\u001b[0m)           │ (\u001b[38;5;45mNone\u001b[0m, \u001b[38;5;34m4\u001b[0m, \u001b[38;5;34m4\u001b[0m, \u001b[38;5;34m512\u001b[0m)      │     \u001b[38;5;34m1,180,160\u001b[0m │\n",
       "├─────────────────────────────────┼────────────────────────┼───────────────┤\n",
       "│ block4_conv2 (\u001b[38;5;33mConv2D\u001b[0m)           │ (\u001b[38;5;45mNone\u001b[0m, \u001b[38;5;34m4\u001b[0m, \u001b[38;5;34m4\u001b[0m, \u001b[38;5;34m512\u001b[0m)      │     \u001b[38;5;34m2,359,808\u001b[0m │\n",
       "├─────────────────────────────────┼────────────────────────┼───────────────┤\n",
       "│ block4_conv3 (\u001b[38;5;33mConv2D\u001b[0m)           │ (\u001b[38;5;45mNone\u001b[0m, \u001b[38;5;34m4\u001b[0m, \u001b[38;5;34m4\u001b[0m, \u001b[38;5;34m512\u001b[0m)      │     \u001b[38;5;34m2,359,808\u001b[0m │\n",
       "├─────────────────────────────────┼────────────────────────┼───────────────┤\n",
       "│ block4_pool (\u001b[38;5;33mMaxPooling2D\u001b[0m)      │ (\u001b[38;5;45mNone\u001b[0m, \u001b[38;5;34m2\u001b[0m, \u001b[38;5;34m2\u001b[0m, \u001b[38;5;34m512\u001b[0m)      │             \u001b[38;5;34m0\u001b[0m │\n",
       "├─────────────────────────────────┼────────────────────────┼───────────────┤\n",
       "│ block5_conv1 (\u001b[38;5;33mConv2D\u001b[0m)           │ (\u001b[38;5;45mNone\u001b[0m, \u001b[38;5;34m2\u001b[0m, \u001b[38;5;34m2\u001b[0m, \u001b[38;5;34m512\u001b[0m)      │     \u001b[38;5;34m2,359,808\u001b[0m │\n",
       "├─────────────────────────────────┼────────────────────────┼───────────────┤\n",
       "│ block5_conv2 (\u001b[38;5;33mConv2D\u001b[0m)           │ (\u001b[38;5;45mNone\u001b[0m, \u001b[38;5;34m2\u001b[0m, \u001b[38;5;34m2\u001b[0m, \u001b[38;5;34m512\u001b[0m)      │     \u001b[38;5;34m2,359,808\u001b[0m │\n",
       "├─────────────────────────────────┼────────────────────────┼───────────────┤\n",
       "│ block5_conv3 (\u001b[38;5;33mConv2D\u001b[0m)           │ (\u001b[38;5;45mNone\u001b[0m, \u001b[38;5;34m2\u001b[0m, \u001b[38;5;34m2\u001b[0m, \u001b[38;5;34m512\u001b[0m)      │     \u001b[38;5;34m2,359,808\u001b[0m │\n",
       "├─────────────────────────────────┼────────────────────────┼───────────────┤\n",
       "│ block5_pool (\u001b[38;5;33mMaxPooling2D\u001b[0m)      │ (\u001b[38;5;45mNone\u001b[0m, \u001b[38;5;34m1\u001b[0m, \u001b[38;5;34m1\u001b[0m, \u001b[38;5;34m512\u001b[0m)      │             \u001b[38;5;34m0\u001b[0m │\n",
       "├─────────────────────────────────┼────────────────────────┼───────────────┤\n",
       "│ global_average_pooling2d_3      │ (\u001b[38;5;45mNone\u001b[0m, \u001b[38;5;34m512\u001b[0m)            │             \u001b[38;5;34m0\u001b[0m │\n",
       "│ (\u001b[38;5;33mGlobalAveragePooling2D\u001b[0m)        │                        │               │\n",
       "├─────────────────────────────────┼────────────────────────┼───────────────┤\n",
       "│ dense_6 (\u001b[38;5;33mDense\u001b[0m)                 │ (\u001b[38;5;45mNone\u001b[0m, \u001b[38;5;34m1024\u001b[0m)           │       \u001b[38;5;34m525,312\u001b[0m │\n",
       "├─────────────────────────────────┼────────────────────────┼───────────────┤\n",
       "│ dense_7 (\u001b[38;5;33mDense\u001b[0m)                 │ (\u001b[38;5;45mNone\u001b[0m, \u001b[38;5;34m4\u001b[0m)              │         \u001b[38;5;34m4,100\u001b[0m │\n",
       "└─────────────────────────────────┴────────────────────────┴───────────────┘\n"
      ]
     },
     "metadata": {},
     "output_type": "display_data"
    },
    {
     "data": {
      "text/html": [
       "<pre style=\"white-space:pre;overflow-x:auto;line-height:normal;font-family:Menlo,'DejaVu Sans Mono',consolas,'Courier New',monospace\"><span style=\"font-weight: bold\"> Total params: </span><span style=\"color: #00af00; text-decoration-color: #00af00\">15,244,102</span> (58.15 MB)\n",
       "</pre>\n"
      ],
      "text/plain": [
       "\u001b[1m Total params: \u001b[0m\u001b[38;5;34m15,244,102\u001b[0m (58.15 MB)\n"
      ]
     },
     "metadata": {},
     "output_type": "display_data"
    },
    {
     "data": {
      "text/html": [
       "<pre style=\"white-space:pre;overflow-x:auto;line-height:normal;font-family:Menlo,'DejaVu Sans Mono',consolas,'Courier New',monospace\"><span style=\"font-weight: bold\"> Trainable params: </span><span style=\"color: #00af00; text-decoration-color: #00af00\">7,608,836</span> (29.03 MB)\n",
       "</pre>\n"
      ],
      "text/plain": [
       "\u001b[1m Trainable params: \u001b[0m\u001b[38;5;34m7,608,836\u001b[0m (29.03 MB)\n"
      ]
     },
     "metadata": {},
     "output_type": "display_data"
    },
    {
     "data": {
      "text/html": [
       "<pre style=\"white-space:pre;overflow-x:auto;line-height:normal;font-family:Menlo,'DejaVu Sans Mono',consolas,'Courier New',monospace\"><span style=\"font-weight: bold\"> Non-trainable params: </span><span style=\"color: #00af00; text-decoration-color: #00af00\">7,635,264</span> (29.13 MB)\n",
       "</pre>\n"
      ],
      "text/plain": [
       "\u001b[1m Non-trainable params: \u001b[0m\u001b[38;5;34m7,635,264\u001b[0m (29.13 MB)\n"
      ]
     },
     "metadata": {},
     "output_type": "display_data"
    },
    {
     "data": {
      "text/html": [
       "<pre style=\"white-space:pre;overflow-x:auto;line-height:normal;font-family:Menlo,'DejaVu Sans Mono',consolas,'Courier New',monospace\"><span style=\"font-weight: bold\"> Optimizer params: </span><span style=\"color: #00af00; text-decoration-color: #00af00\">2</span> (12.00 B)\n",
       "</pre>\n"
      ],
      "text/plain": [
       "\u001b[1m Optimizer params: \u001b[0m\u001b[38;5;34m2\u001b[0m (12.00 B)\n"
      ]
     },
     "metadata": {},
     "output_type": "display_data"
    }
   ],
   "source": [
    "weights = model.get_weights()\n",
    "model.summary()"
   ]
  },
  {
   "cell_type": "code",
   "execution_count": 13,
   "metadata": {},
   "outputs": [
    {
     "name": "stderr",
     "output_type": "stream",
     "text": [
      "WARNING:absl:Compiled the loaded model, but the compiled metrics have yet to be built. `model.compile_metrics` will be empty until you train or evaluate the model.\n",
      "WARNING:absl:You are saving your model as an HDF5 file via `model.save()` or `keras.saving.save_model(model)`. This file format is considered legacy. We recommend using instead the native Keras format, e.g. `model.save('my_model.keras')` or `keras.saving.save_model(model, 'my_model.keras')`. \n",
      "WARNING:absl:Compiled the loaded model, but the compiled metrics have yet to be built. `model.compile_metrics` will be empty until you train or evaluate the model.\n"
     ]
    },
    {
     "ename": "AttributeError",
     "evalue": "'Functional' object has no attribute '_get_save_spec'",
     "output_type": "error",
     "traceback": [
      "\u001b[1;31m---------------------------------------------------------------------------\u001b[0m",
      "\u001b[1;31mAttributeError\u001b[0m                            Traceback (most recent call last)",
      "Cell \u001b[1;32mIn[13], line 14\u001b[0m\n\u001b[0;32m     12\u001b[0m \u001b[38;5;66;03m# Convert the reloaded model to TensorFlow Lite format\u001b[39;00m\n\u001b[0;32m     13\u001b[0m converter \u001b[38;5;241m=\u001b[39m tf\u001b[38;5;241m.\u001b[39mlite\u001b[38;5;241m.\u001b[39mTFLiteConverter\u001b[38;5;241m.\u001b[39mfrom_keras_model(model_resaved)\n\u001b[1;32m---> 14\u001b[0m tflite_model \u001b[38;5;241m=\u001b[39m \u001b[43mconverter\u001b[49m\u001b[38;5;241;43m.\u001b[39;49m\u001b[43mconvert\u001b[49m\u001b[43m(\u001b[49m\u001b[43m)\u001b[49m\n\u001b[0;32m     16\u001b[0m \u001b[38;5;66;03m# Save the converted model to a .tflite file\u001b[39;00m\n\u001b[0;32m     17\u001b[0m \u001b[38;5;28;01mwith\u001b[39;00m \u001b[38;5;28mopen\u001b[39m(\u001b[38;5;124m'\u001b[39m\u001b[38;5;124mcustom_vgg16_model.tflite\u001b[39m\u001b[38;5;124m'\u001b[39m, \u001b[38;5;124m'\u001b[39m\u001b[38;5;124mwb\u001b[39m\u001b[38;5;124m'\u001b[39m) \u001b[38;5;28;01mas\u001b[39;00m f:\n",
      "File \u001b[1;32mc:\\Python312\\Lib\\site-packages\\tensorflow\\lite\\python\\lite.py:1175\u001b[0m, in \u001b[0;36m_export_metrics.<locals>.wrapper\u001b[1;34m(self, *args, **kwargs)\u001b[0m\n\u001b[0;32m   1172\u001b[0m \u001b[38;5;129m@functools\u001b[39m\u001b[38;5;241m.\u001b[39mwraps(convert_func)\n\u001b[0;32m   1173\u001b[0m \u001b[38;5;28;01mdef\u001b[39;00m \u001b[38;5;21mwrapper\u001b[39m(\u001b[38;5;28mself\u001b[39m, \u001b[38;5;241m*\u001b[39margs, \u001b[38;5;241m*\u001b[39m\u001b[38;5;241m*\u001b[39mkwargs):\n\u001b[0;32m   1174\u001b[0m   \u001b[38;5;66;03m# pylint: disable=protected-access\u001b[39;00m\n\u001b[1;32m-> 1175\u001b[0m   \u001b[38;5;28;01mreturn\u001b[39;00m \u001b[38;5;28;43mself\u001b[39;49m\u001b[38;5;241;43m.\u001b[39;49m\u001b[43m_convert_and_export_metrics\u001b[49m\u001b[43m(\u001b[49m\u001b[43mconvert_func\u001b[49m\u001b[43m,\u001b[49m\u001b[43m \u001b[49m\u001b[38;5;241;43m*\u001b[39;49m\u001b[43margs\u001b[49m\u001b[43m,\u001b[49m\u001b[43m \u001b[49m\u001b[38;5;241;43m*\u001b[39;49m\u001b[38;5;241;43m*\u001b[39;49m\u001b[43mkwargs\u001b[49m\u001b[43m)\u001b[49m\n",
      "File \u001b[1;32mc:\\Python312\\Lib\\site-packages\\tensorflow\\lite\\python\\lite.py:1129\u001b[0m, in \u001b[0;36mTFLiteConverterBase._convert_and_export_metrics\u001b[1;34m(self, convert_func, *args, **kwargs)\u001b[0m\n\u001b[0;32m   1127\u001b[0m \u001b[38;5;28mself\u001b[39m\u001b[38;5;241m.\u001b[39m_save_conversion_params_metric()\n\u001b[0;32m   1128\u001b[0m start_time \u001b[38;5;241m=\u001b[39m time\u001b[38;5;241m.\u001b[39mprocess_time()\n\u001b[1;32m-> 1129\u001b[0m result \u001b[38;5;241m=\u001b[39m \u001b[43mconvert_func\u001b[49m\u001b[43m(\u001b[49m\u001b[38;5;28;43mself\u001b[39;49m\u001b[43m,\u001b[49m\u001b[43m \u001b[49m\u001b[38;5;241;43m*\u001b[39;49m\u001b[43margs\u001b[49m\u001b[43m,\u001b[49m\u001b[43m \u001b[49m\u001b[38;5;241;43m*\u001b[39;49m\u001b[38;5;241;43m*\u001b[39;49m\u001b[43mkwargs\u001b[49m\u001b[43m)\u001b[49m\n\u001b[0;32m   1130\u001b[0m elapsed_time_ms \u001b[38;5;241m=\u001b[39m (time\u001b[38;5;241m.\u001b[39mprocess_time() \u001b[38;5;241m-\u001b[39m start_time) \u001b[38;5;241m*\u001b[39m \u001b[38;5;241m1000\u001b[39m\n\u001b[0;32m   1131\u001b[0m \u001b[38;5;28;01mif\u001b[39;00m result:\n",
      "File \u001b[1;32mc:\\Python312\\Lib\\site-packages\\tensorflow\\lite\\python\\lite.py:1641\u001b[0m, in \u001b[0;36mTFLiteKerasModelConverterV2.convert\u001b[1;34m(self)\u001b[0m\n\u001b[0;32m   1637\u001b[0m \u001b[38;5;28;01mif\u001b[39;00m saved_model_convert_result:\n\u001b[0;32m   1638\u001b[0m   \u001b[38;5;28;01mreturn\u001b[39;00m saved_model_convert_result\n\u001b[0;32m   1640\u001b[0m graph_def, input_tensors, output_tensors, frozen_func \u001b[38;5;241m=\u001b[39m (\n\u001b[1;32m-> 1641\u001b[0m     \u001b[38;5;28;43mself\u001b[39;49m\u001b[38;5;241;43m.\u001b[39;49m\u001b[43m_freeze_keras_model\u001b[49m\u001b[43m(\u001b[49m\u001b[43m)\u001b[49m\n\u001b[0;32m   1642\u001b[0m )\n\u001b[0;32m   1644\u001b[0m graph_def \u001b[38;5;241m=\u001b[39m \u001b[38;5;28mself\u001b[39m\u001b[38;5;241m.\u001b[39m_optimize_tf_model(\n\u001b[0;32m   1645\u001b[0m     graph_def, input_tensors, output_tensors, frozen_func\n\u001b[0;32m   1646\u001b[0m )\n\u001b[0;32m   1648\u001b[0m \u001b[38;5;28;01mreturn\u001b[39;00m \u001b[38;5;28msuper\u001b[39m(TFLiteKerasModelConverterV2, \u001b[38;5;28mself\u001b[39m)\u001b[38;5;241m.\u001b[39mconvert(\n\u001b[0;32m   1649\u001b[0m     graph_def, input_tensors, output_tensors\n\u001b[0;32m   1650\u001b[0m )\n",
      "File \u001b[1;32mc:\\Python312\\Lib\\site-packages\\tensorflow\\lite\\python\\convert_phase.py:215\u001b[0m, in \u001b[0;36mconvert_phase.<locals>.actual_decorator.<locals>.wrapper\u001b[1;34m(*args, **kwargs)\u001b[0m\n\u001b[0;32m    213\u001b[0m \u001b[38;5;28;01mexcept\u001b[39;00m \u001b[38;5;167;01mException\u001b[39;00m \u001b[38;5;28;01mas\u001b[39;00m error:\n\u001b[0;32m    214\u001b[0m   report_error_message(\u001b[38;5;28mstr\u001b[39m(error))\n\u001b[1;32m--> 215\u001b[0m   \u001b[38;5;28;01mraise\u001b[39;00m error \u001b[38;5;28;01mfrom\u001b[39;00m \u001b[38;5;28;01mNone\u001b[39;00m\n",
      "File \u001b[1;32mc:\\Python312\\Lib\\site-packages\\tensorflow\\lite\\python\\convert_phase.py:205\u001b[0m, in \u001b[0;36mconvert_phase.<locals>.actual_decorator.<locals>.wrapper\u001b[1;34m(*args, **kwargs)\u001b[0m\n\u001b[0;32m    202\u001b[0m \u001b[38;5;129m@functools\u001b[39m\u001b[38;5;241m.\u001b[39mwraps(func)\n\u001b[0;32m    203\u001b[0m \u001b[38;5;28;01mdef\u001b[39;00m \u001b[38;5;21mwrapper\u001b[39m(\u001b[38;5;241m*\u001b[39margs, \u001b[38;5;241m*\u001b[39m\u001b[38;5;241m*\u001b[39mkwargs):\n\u001b[0;32m    204\u001b[0m   \u001b[38;5;28;01mtry\u001b[39;00m:\n\u001b[1;32m--> 205\u001b[0m     \u001b[38;5;28;01mreturn\u001b[39;00m \u001b[43mfunc\u001b[49m\u001b[43m(\u001b[49m\u001b[38;5;241;43m*\u001b[39;49m\u001b[43margs\u001b[49m\u001b[43m,\u001b[49m\u001b[43m \u001b[49m\u001b[38;5;241;43m*\u001b[39;49m\u001b[38;5;241;43m*\u001b[39;49m\u001b[43mkwargs\u001b[49m\u001b[43m)\u001b[49m\n\u001b[0;32m    206\u001b[0m   \u001b[38;5;28;01mexcept\u001b[39;00m ConverterError \u001b[38;5;28;01mas\u001b[39;00m converter_error:\n\u001b[0;32m    207\u001b[0m     \u001b[38;5;28;01mif\u001b[39;00m converter_error\u001b[38;5;241m.\u001b[39merrors:\n",
      "File \u001b[1;32mc:\\Python312\\Lib\\site-packages\\tensorflow\\lite\\python\\lite.py:1582\u001b[0m, in \u001b[0;36mTFLiteKerasModelConverterV2._freeze_keras_model\u001b[1;34m(self)\u001b[0m\n\u001b[0;32m   1573\u001b[0m \u001b[38;5;66;03m# If the model's call is not a `tf.function`, then we need to first get its\u001b[39;00m\n\u001b[0;32m   1574\u001b[0m \u001b[38;5;66;03m# input signature from `model_input_signature` method. We can't directly\u001b[39;00m\n\u001b[0;32m   1575\u001b[0m \u001b[38;5;66;03m# call `trace_model_call` because otherwise the batch dimension is set\u001b[39;00m\n\u001b[0;32m   1576\u001b[0m \u001b[38;5;66;03m# to None.\u001b[39;00m\n\u001b[0;32m   1577\u001b[0m \u001b[38;5;66;03m# Once we have better support for dynamic shapes, we can remove this.\u001b[39;00m\n\u001b[0;32m   1578\u001b[0m \u001b[38;5;28;01mif\u001b[39;00m \u001b[38;5;129;01mnot\u001b[39;00m \u001b[38;5;28misinstance\u001b[39m(\u001b[38;5;28mself\u001b[39m\u001b[38;5;241m.\u001b[39m_keras_model\u001b[38;5;241m.\u001b[39mcall, _def_function\u001b[38;5;241m.\u001b[39mFunction):\n\u001b[0;32m   1579\u001b[0m   \u001b[38;5;66;03m# Pass `keep_original_batch_size=True` will ensure that we get an input\u001b[39;00m\n\u001b[0;32m   1580\u001b[0m   \u001b[38;5;66;03m# signature including the batch dimension specified by the user.\u001b[39;00m\n\u001b[0;32m   1581\u001b[0m   \u001b[38;5;66;03m# TODO(b/169898786): Use the Keras public API when TFLite moves out of TF\u001b[39;00m\n\u001b[1;32m-> 1582\u001b[0m   input_signature \u001b[38;5;241m=\u001b[39m \u001b[43m_model_input_signature\u001b[49m\u001b[43m(\u001b[49m\n\u001b[0;32m   1583\u001b[0m \u001b[43m      \u001b[49m\u001b[38;5;28;43mself\u001b[39;49m\u001b[38;5;241;43m.\u001b[39;49m\u001b[43m_keras_model\u001b[49m\u001b[43m,\u001b[49m\u001b[43m \u001b[49m\u001b[43mkeep_original_batch_size\u001b[49m\u001b[38;5;241;43m=\u001b[39;49m\u001b[38;5;28;43;01mTrue\u001b[39;49;00m\n\u001b[0;32m   1584\u001b[0m \u001b[43m  \u001b[49m\u001b[43m)\u001b[49m\n\u001b[0;32m   1586\u001b[0m \u001b[38;5;66;03m# TODO(b/169898786): Use the Keras public API when TFLite moves out of TF\u001b[39;00m\n\u001b[0;32m   1587\u001b[0m func \u001b[38;5;241m=\u001b[39m _trace_model_call(\u001b[38;5;28mself\u001b[39m\u001b[38;5;241m.\u001b[39m_keras_model, input_signature)\n",
      "File \u001b[1;32mc:\\Python312\\Lib\\site-packages\\tensorflow\\lite\\python\\tflite_keras_util.py:84\u001b[0m, in \u001b[0;36mmodel_input_signature\u001b[1;34m(model, keep_original_batch_size)\u001b[0m\n\u001b[0;32m     82\u001b[0m   input_specs \u001b[38;5;241m=\u001b[39m input_specs[\u001b[38;5;241m0\u001b[39m][\u001b[38;5;241m0\u001b[39m]\n\u001b[0;32m     83\u001b[0m \u001b[38;5;28;01melse\u001b[39;00m:\n\u001b[1;32m---> 84\u001b[0m   input_specs \u001b[38;5;241m=\u001b[39m \u001b[43mmodel\u001b[49m\u001b[38;5;241;43m.\u001b[39;49m\u001b[43m_get_save_spec\u001b[49m(  \u001b[38;5;66;03m# pylint: disable=protected-access\u001b[39;00m\n\u001b[0;32m     85\u001b[0m       dynamic_batch\u001b[38;5;241m=\u001b[39m\u001b[38;5;129;01mnot\u001b[39;00m keep_original_batch_size)\n\u001b[0;32m     86\u001b[0m   \u001b[38;5;28;01mif\u001b[39;00m input_specs \u001b[38;5;129;01mis\u001b[39;00m \u001b[38;5;28;01mNone\u001b[39;00m:\n\u001b[0;32m     87\u001b[0m     \u001b[38;5;28;01mreturn\u001b[39;00m \u001b[38;5;28;01mNone\u001b[39;00m\n",
      "\u001b[1;31mAttributeError\u001b[0m: 'Functional' object has no attribute '_get_save_spec'"
     ]
    }
   ],
   "source": [
    "import tensorflow as tf\n",
    "\n",
    "# Load the Keras model\n",
    "model = tf.keras.models.load_model('custom_vgg16_model.h5')\n",
    "\n",
    "# Re-save the model in the current TensorFlow version\n",
    "model.save('custom_vgg16_model_resaved.h5')\n",
    "\n",
    "# Reload the model\n",
    "model_resaved = tf.keras.models.load_model('custom_vgg16_model_resaved.h5')\n",
    "\n",
    "# Convert the reloaded model to TensorFlow Lite format\n",
    "converter = tf.lite.TFLiteConverter.from_keras_model(model_resaved)\n",
    "tflite_model = converter.convert()\n",
    "\n",
    "# Save the converted model to a .tflite file\n",
    "with open('custom_vgg16_model.tflite', 'wb') as f:\n",
    "    f.write(tflite_model)\n",
    "\n",
    "print(\"Model successfully converted to TensorFlow Lite!\")\n"
   ]
  },
  {
   "cell_type": "code",
   "execution_count": null,
   "metadata": {},
   "outputs": [],
   "source": []
  }
 ],
 "metadata": {
  "kernelspec": {
   "display_name": "Python 3",
   "language": "python",
   "name": "python3"
  },
  "language_info": {
   "codemirror_mode": {
    "name": "ipython",
    "version": 3
   },
   "file_extension": ".py",
   "mimetype": "text/x-python",
   "name": "python",
   "nbconvert_exporter": "python",
   "pygments_lexer": "ipython3",
   "version": "3.12.2"
  }
 },
 "nbformat": 4,
 "nbformat_minor": 2
}
