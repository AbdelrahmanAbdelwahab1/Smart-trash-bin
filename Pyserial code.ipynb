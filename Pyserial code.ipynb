{
 "cells": [
  {
   "cell_type": "code",
   "execution_count": 5,
   "metadata": {},
   "outputs": [
    {
     "name": "stdout",
     "output_type": "stream",
     "text": [
      "Collecting keyboardNote: you may need to restart the kernel to use updated packages.\n",
      "\n",
      "  Downloading keyboard-0.13.5-py3-none-any.whl.metadata (4.0 kB)\n",
      "Downloading keyboard-0.13.5-py3-none-any.whl (58 kB)\n",
      "Installing collected packages: keyboard\n",
      "Successfully installed keyboard-0.13.5\n"
     ]
    }
   ],
   "source": [
    "pip install keyboard\n"
   ]
  },
  {
   "cell_type": "code",
   "execution_count": 4,
   "metadata": {},
   "outputs": [
    {
     "name": "stderr",
     "output_type": "stream",
     "text": [
      "WARNING:absl:Compiled the loaded model, but the compiled metrics have yet to be built. `model.compile_metrics` will be empty until you train or evaluate the model.\n"
     ]
    },
    {
     "name": "stdout",
     "output_type": "stream",
     "text": [
      "Received from Arduino: close\n",
      "Arduino sent 'close', capturing image...\n",
      "Classified as: can\n",
      "Image deleted, folder cleaned up.\n",
      "Received from Arduino: open\n",
      "Received from Arduino: close\n",
      "Arduino sent 'close', capturing image...\n",
      "Classified as: paper\n",
      "Image deleted, folder cleaned up.\n",
      "Serial connection closed.\n"
     ]
    },
    {
     "ename": "SerialException",
     "evalue": "ClearCommError failed (PermissionError(13, 'The device does not recognize the command.', None, 22))",
     "output_type": "error",
     "traceback": [
      "\u001b[1;31m---------------------------------------------------------------------------\u001b[0m",
      "\u001b[1;31mSerialException\u001b[0m                           Traceback (most recent call last)",
      "Cell \u001b[1;32mIn[4], line 64\u001b[0m\n\u001b[0;32m     62\u001b[0m         \u001b[38;5;28;01mbreak\u001b[39;00m\n\u001b[0;32m     63\u001b[0m \u001b[38;5;28;01mwhile\u001b[39;00m \u001b[38;5;28;01mTrue\u001b[39;00m:\n\u001b[1;32m---> 64\u001b[0m     \u001b[38;5;28;01mif\u001b[39;00m \u001b[43marduino\u001b[49m\u001b[38;5;241;43m.\u001b[39;49m\u001b[43min_waiting\u001b[49m \u001b[38;5;241m>\u001b[39m \u001b[38;5;241m0\u001b[39m:\n\u001b[0;32m     65\u001b[0m         data \u001b[38;5;241m=\u001b[39m arduino\u001b[38;5;241m.\u001b[39mreadline()\u001b[38;5;241m.\u001b[39mdecode(\u001b[38;5;124m'\u001b[39m\u001b[38;5;124mutf-8\u001b[39m\u001b[38;5;124m'\u001b[39m)\u001b[38;5;241m.\u001b[39mstrip()\n\u001b[0;32m     66\u001b[0m         \u001b[38;5;28mprint\u001b[39m(\u001b[38;5;124mf\u001b[39m\u001b[38;5;124m\"\u001b[39m\u001b[38;5;124mReceived from Arduino: \u001b[39m\u001b[38;5;132;01m{\u001b[39;00mdata\u001b[38;5;132;01m}\u001b[39;00m\u001b[38;5;124m\"\u001b[39m)\n",
      "File \u001b[1;32mc:\\Users\\lenovo\\AppData\\Local\\Programs\\Python\\Python312\\Lib\\site-packages\\serial\\serialwin32.py:259\u001b[0m, in \u001b[0;36mSerial.in_waiting\u001b[1;34m(self)\u001b[0m\n\u001b[0;32m    257\u001b[0m comstat \u001b[38;5;241m=\u001b[39m win32\u001b[38;5;241m.\u001b[39mCOMSTAT()\n\u001b[0;32m    258\u001b[0m \u001b[38;5;28;01mif\u001b[39;00m \u001b[38;5;129;01mnot\u001b[39;00m win32\u001b[38;5;241m.\u001b[39mClearCommError(\u001b[38;5;28mself\u001b[39m\u001b[38;5;241m.\u001b[39m_port_handle, ctypes\u001b[38;5;241m.\u001b[39mbyref(flags), ctypes\u001b[38;5;241m.\u001b[39mbyref(comstat)):\n\u001b[1;32m--> 259\u001b[0m     \u001b[38;5;28;01mraise\u001b[39;00m SerialException(\u001b[38;5;124m\"\u001b[39m\u001b[38;5;124mClearCommError failed (\u001b[39m\u001b[38;5;132;01m{!r}\u001b[39;00m\u001b[38;5;124m)\u001b[39m\u001b[38;5;124m\"\u001b[39m\u001b[38;5;241m.\u001b[39mformat(ctypes\u001b[38;5;241m.\u001b[39mWinError()))\n\u001b[0;32m    260\u001b[0m \u001b[38;5;28;01mreturn\u001b[39;00m comstat\u001b[38;5;241m.\u001b[39mcbInQue\n",
      "\u001b[1;31mSerialException\u001b[0m: ClearCommError failed (PermissionError(13, 'The device does not recognize the command.', None, 22))"
     ]
    }
   ],
   "source": [
    "import cv2\n",
    "import numpy as np\n",
    "import os\n",
    "import serial\n",
    "import time\n",
    "import tensorflow as tf\n",
    "import keyboard\n",
    "model = tf.keras.models.load_model(r'C:\\Users\\lenovo\\Desktop\\custom_vgg16_model.h5')\n",
    "folder_path = r'E:\\Trash'\n",
    "for filename in os.listdir(folder_path):\n",
    "    file_path = os.path.join(folder_path, filename)\n",
    "    try:\n",
    "        os.remove(file_path)\n",
    "    except Exception as e:\n",
    "        print(f\"Error deleting {file_path}: {e}\")\n",
    "IMG_SIZE = 32\n",
    "CATEGORIES = ['can', 'glass', 'paper', 'plastic']\n",
    "def capture_image():\n",
    "    cap = cv2.VideoCapture(1)\n",
    "    if not cap.isOpened():\n",
    "        print(\"Cannot open camera\")\n",
    "        return None\n",
    "    ret, frame = cap.read()\n",
    "    if not ret:\n",
    "        print(\"Failed to grab frame\")\n",
    "        return None\n",
    "    image_path = os.path.join(folder_path, 'captured_image.jpg')\n",
    "    cv2.imwrite(image_path, frame)\n",
    "\n",
    "    cap.release()\n",
    "    cv2.destroyAllWindows()\n",
    "\n",
    "    return image_path\n",
    "def clean_folder():\n",
    "    for filename in os.listdir(folder_path):\n",
    "        file_path = os.path.join(folder_path, filename)\n",
    "        try:\n",
    "            os.remove(file_path)\n",
    "        except Exception as e:\n",
    "            print(f\"Error deleting {file_path}: {e}\")\n",
    "try:\n",
    "    arduino = serial.Serial(port='COM3', baudrate=9600, timeout=1)\n",
    "    time.sleep(2)\n",
    "except serial.SerialException as e:\n",
    "    print(f\"Error opening serial port: {e}\")\n",
    "    exit()\n",
    "try:\n",
    "    while True:\n",
    "        trash_type = None\n",
    "        while True:\n",
    "            if keyboard.is_pressed('c'):\n",
    "                trash_type = \"can\"\n",
    "                break\n",
    "            elif keyboard.is_pressed('g'):\n",
    "                trash_type = \"glass\"\n",
    "                break\n",
    "            elif keyboard.is_pressed('p'):\n",
    "                trash_type = \"paper\"\n",
    "                break\n",
    "            elif keyboard.is_pressed('l'):\n",
    "                trash_type = \"plastic\"\n",
    "                break\n",
    "        while True:\n",
    "            if arduino.in_waiting > 0:\n",
    "                data = arduino.readline().decode('utf-8').strip()\n",
    "                print(f\"Received from Arduino: {data}\")\n",
    "                if data == \"close\":\n",
    "                    print(\"Arduino sent 'close', capturing image...\")\n",
    "                    image_path = capture_image()\n",
    "                    if image_path:\n",
    "                        print(f\"Classified as: {trash_type}\")\n",
    "                        arduino.write(f\"{trash_type}\\n\".encode())\n",
    "                        time.sleep(1)\n",
    "                        clean_folder()\n",
    "                        print(\"Image deleted, folder cleaned up.\")\n",
    "                    else:\n",
    "                        print(\"Failed to capture image.\")\n",
    "                    break\n",
    "        if data == \"open\":\n",
    "            print(\"Arduino sent 'open', stopping the process...\")\n",
    "            continue\n",
    "except KeyboardInterrupt:\n",
    "    print(\"Program interrupted by user.\")\n",
    "finally:\n",
    "    if 'arduino' in locals() and arduino.is_open:\n",
    "        arduino.close()\n",
    "        print(\"Serial connection closed.\")\n"
   ]
  }
 ],
 "metadata": {
  "kernelspec": {
   "display_name": "Python 3",
   "language": "python",
   "name": "python3"
  },
  "language_info": {
   "codemirror_mode": {
    "name": "ipython",
    "version": 3
   },
   "file_extension": ".py",
   "mimetype": "text/x-python",
   "name": "python",
   "nbconvert_exporter": "python",
   "pygments_lexer": "ipython3",
   "version": "3.12.6"
  }
 },
 "nbformat": 4,
 "nbformat_minor": 2
}
